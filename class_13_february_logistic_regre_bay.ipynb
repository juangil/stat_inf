{
 "cells": [
  {
   "cell_type": "code",
   "execution_count": 6,
   "metadata": {
    "collapsed": false
   },
   "outputs": [
    {
     "name": "stdout",
     "output_type": "stream",
     "text": [
      "Populating the interactive namespace from numpy and matplotlib\n"
     ]
    }
   ],
   "source": [
    "% pylab inline\n",
    "import scipy.io\n",
    "import numpy as np\n",
    "import matplotlib.pyplot as plt\n",
    "import math\n",
    "from mpl_toolkits.mplot3d.axes3d import Axes3D\n",
    "import pylab as pb\n",
    "from matplotlib import cm\n",
    "from scipy import stats"
   ]
  },
  {
   "cell_type": "code",
   "execution_count": 9,
   "metadata": {
    "collapsed": false
   },
   "outputs": [],
   "source": [
    "# Logistic function\n",
    "def logisFunc(a):\n",
    "    ret = 1.0/(1.0 + np.exp(-a))\n",
    "    return ret\n",
    "\n",
    "    # Extracting the class wich probability is the highest\n",
    "def extractMax(Yestim, nclass):\n",
    "    for i in range(len(Yestim[:,0])):\n",
    "        mayor = -1000000.0\n",
    "        idmayor = -1\n",
    "        for j in range(nclass):\n",
    "            if(Yestim[i,j] > mayor):\n",
    "                mayor = Yestim[i,j]\n",
    "                idmayor = j\n",
    "\n",
    "        for j in range(nclass):\n",
    "            if (j == idmayor):\n",
    "                Yestim[i,j] = 1.\n",
    "            else:\n",
    "                Yestim[i,j] = 0.\n",
    "    return Yestim\n",
    "\n",
    "    # Evaluating accuracy of a preditcion\n",
    "def evalAccuracy(Yestim, Tvalid, nclass):\n",
    "    true_positives = np.array([0.,0.,0.])\n",
    "    true_negatives = np.array([0.,0.,0.])\n",
    "    false_positives = np.array([0.,0.,0.])\n",
    "    false_negatives = np.array([0.,0.,0.])\n",
    "    for i in range(len(Yestim[:,0])):\n",
    "        for j in range(nclass):\n",
    "            if(Tvalid[i,j] == 1. and Tvalid[i,j] == Yestim[i,j]):\n",
    "                true_positives[j] += 1.\n",
    "            if(Tvalid[i,j] == 0. and Tvalid[i,j] == Yestim[i,j]):\n",
    "                true_negatives[j] += 1.\n",
    "            if(Tvalid[i,j] == 0. and Yestim[i,j] == 1.):\n",
    "                false_positives[j] += 1.\n",
    "            if(Tvalid[i,j] == 1. and Yestim[i,j] == 0):\n",
    "                false_negatives[j] += 1.\n",
    "\n",
    "    ret = np.sum(true_positives + true_negatives)/np.sum(true_positives + false_positives + false_negatives + true_negatives)\n",
    "    ret_class1 = (true_positives[0] + true_negatives[0])/(true_positives[0] + false_positives[0] + false_negatives[0] + true_negatives[0])\n",
    "    return ret, ret_class1\n",
    "\n",
    "def logRegEstim(X,T, Xtest):\n",
    "    PHI = X\n",
    "    N = X.shape[0]\n",
    "    M = X.shape[1]\n",
    "    #Wold = np.transpose(np.matrix(np.random.random_sample(M)))\n",
    "    Wold = np.transpose(np.matrix(np.zeros(M))) + 0.001\n",
    "    Wnew = np.transpose(np.matrix(np.zeros(M)))\n",
    "    EPS = 1e-6\n",
    "    diff = np.linalg.norm(Wold - Wnew)\n",
    "    cont = 0\n",
    "    Yestim = T\n",
    "    var_0 = 10.0\n",
    "    S0 = np.eye(M)*var_0\n",
    "    mean_0 = np.zeros(M)\n",
    "    \n",
    "    '''x, y = np.mgrid[-10:10:.01, -10:10:.01]\n",
    "    pos = np.empty(x.shape + (2,))\n",
    "    pos[:, :, 0] = x; pos[:, :, 1] = y\n",
    "    rv = multivariate_normal(mean_0, S0)\n",
    "    plt.contourf(x, y, rv.pdf(pos))'''\n",
    "    \n",
    "    S0 = np.matrix(S0)\n",
    "    mean_0 = mean_0[:,None]\n",
    "    mean_0 = np.matrix(mean_0)\n",
    "    \n",
    "    # Newton raphson with several iteration\n",
    "    super_R = 0\n",
    "    while cont < 100:\n",
    "        yy = np.transpose(Wold) * np.transpose(PHI)\n",
    "        yy = np.transpose(logisFunc(yy))\n",
    "        yy = yy\n",
    "        Yestim = yy\n",
    "        #print ' '\n",
    "        print 'vida hp: ', yy.shape, T.shape\n",
    "        R = np.zeros((N,N))\n",
    "        for i in range(0,N):\n",
    "            #print yy[i,0]\n",
    "            R[i,i] = (yy[i,0] * (1 - yy[i,0])) + 0.001\n",
    "        super_R = R\n",
    "        #z = (PHI*Wold) - (np.linalg.inv(R)*(yy - T))\n",
    "        #Wnew = np.linalg.inv((np.transpose(PHI) * (R * PHI))) * (np.transpose(PHI)*R*z)\n",
    "        tmp1 = (np.linalg.inv(S0) + np.transpose(PHI)*(R*PHI))\n",
    "        tmp2 = (np.linalg.inv(S0)*(Wold - mean_0) + np.transpose(PHI)*(yy - T))\n",
    "        #print tmp1.shape, tmp2.shape\n",
    "        Wnew = Wold - (np.linalg.inv(tmp1)*(tmp2))\n",
    "        diff = np.linalg.norm(Wold - Wnew)\n",
    "        if diff < EPS:\n",
    "            break\n",
    "        else:\n",
    "            Wold = Wnew\n",
    "        cont += 1\n",
    "    print Wnew\n",
    "    cov_mat = np.linalg.inv(S0) +   np.transpose(PHI)*(super_R*PHI)\n",
    "    #print Xtest.shape\n",
    "    ret = np.transpose(Wnew) * np.transpose(Xtest)\n",
    "    ret = np.transpose(logisFunc(ret))\n",
    "    #print ret.shape\n",
    "    return Wnew, cov_mat\n"
   ]
  },
  {
   "cell_type": "code",
   "execution_count": 10,
   "metadata": {
    "collapsed": false
   },
   "outputs": [
    {
     "name": "stdout",
     "output_type": "stream",
     "text": [
      "(100, 2) (100, 1)\n",
      "vida hp:  (100, 1) (100, 1)\n",
      "vida hp:  (100, 1) (100, 1)\n",
      "vida hp:  (100, 1) (100, 1)\n",
      "vida hp:  (100, 1) (100, 1)\n",
      "vida hp:  (100, 1) (100, 1)\n",
      "vida hp:  (100, 1) (100, 1)\n",
      "vida hp:  (100, 1) (100, 1)\n",
      "vida hp:  (100, 1) (100, 1)\n",
      "vida hp:  (100, 1) (100, 1)\n",
      "vida hp:  (100, 1) (100, 1)\n",
      "vida hp:  (100, 1) (100, 1)\n",
      "vida hp:  (100, 1) (100, 1)\n",
      "vida hp:  (100, 1) (100, 1)\n",
      "vida hp:  (100, 1) (100, 1)\n",
      "vida hp:  (100, 1) (100, 1)\n",
      "vida hp:  (100, 1) (100, 1)\n",
      "vida hp:  (100, 1) (100, 1)\n",
      "vida hp:  (100, 1) (100, 1)\n",
      "vida hp:  (100, 1) (100, 1)\n",
      "vida hp:  (100, 1) (100, 1)\n",
      "vida hp:  (100, 1) (100, 1)\n",
      "[[ 3.56118509]\n",
      " [-3.51357427]]\n"
     ]
    }
   ],
   "source": [
    "mdict = scipy.io.loadmat('ejemplo_class_uno.mat')\n",
    "X = mdict['X'] \n",
    "t = mdict['t']\n",
    "for i in range(0,t.shape[0]):\n",
    "    if(t[i] == 1):\n",
    "        t[i] = 0\n",
    "    if(t[i] == -1):\n",
    "        t[i] = 1\n",
    "X = np.matrix(X)\n",
    "T = np.matrix(t)\n",
    "print X.shape, T.shape\n",
    "posterior = logRegEstim(X,T,X)"
   ]
  },
  {
   "cell_type": "code",
   "execution_count": 108,
   "metadata": {
    "collapsed": false
   },
   "outputs": [
    {
     "data": {
      "text/plain": [
       "<matplotlib.contour.QuadContourSet instance at 0x14413f128>"
      ]
     },
     "execution_count": 108,
     "metadata": {},
     "output_type": "execute_result"
    },
    {
     "data": {
      "image/png": "[encoded data removed]",
      "text/plain": [
       "<matplotlib.figure.Figure at 0x126a3ea50>"
      ]
     },
     "metadata": {},
     "output_type": "display_data"
    }
   ],
   "source": [
    "mean_posterior = posterior[0]\n",
    "cov_posterior = posterior[1]\n",
    "coma_h = np.zeros(2)\n",
    "coma_h[0] = mean_posterior[0][0]\n",
    "coma_h[1] = mean_posterior[1][0]\n",
    "#cov_posterior.flatten()\n",
    "x, y = np.mgrid[-10:10:.01, -10:10:.01]\n",
    "pos = np.empty(x.shape + (2,))\n",
    "pos[:, :, 0] = x; pos[:, :, 1] = y\n",
    "rv = stats.multivariate_normal(coma_h,cov_posterior)\n",
    "plt.contourf(x, y, rv.pdf(pos))"
   ]
  },
  {
   "cell_type": "code",
   "execution_count": null,
   "metadata": {
    "collapsed": true
   },
   "outputs": [],
   "source": []
  }
 ],
 "metadata": {
  "kernelspec": {
   "display_name": "Python 2",
   "language": "python",
   "name": "python2"
  },
  "language_info": {
   "codemirror_mode": {
    "name": "ipython",
    "version": 2
   },
   "file_extension": ".py",
   "mimetype": "text/x-python",
   "name": "python",
   "nbconvert_exporter": "python",
   "pygments_lexer": "ipython2",
   "version": "2.7.6"
  }
 },
 "nbformat": 4,
 "nbformat_minor": 0
}
