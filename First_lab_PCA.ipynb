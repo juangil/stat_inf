{
 "cells": [
  {
   "cell_type": "code",
   "execution_count": 8,
   "metadata": {
    "collapsed": false
   },
   "outputs": [
    {
     "name": "stdout",
     "output_type": "stream",
     "text": [
      "Populating the interactive namespace from numpy and matplotlib\n"
     ]
    }
   ],
   "source": [
    "% pylab inline\n",
    "import numpy as np\n",
    "import math\n",
    "import matplotlib.pyplot as plt\n",
    "from mpl_toolkits.mplot3d.axes3d import Axes3D\n",
    "import pylab as pb\n",
    "from matplotlib import cm"
   ]
  },
  {
   "cell_type": "code",
   "execution_count": 56,
   "metadata": {
    "collapsed": true
   },
   "outputs": [],
   "source": [
    "digits = []\n",
    "for i in range(0,9):\n",
    "    file_name = \"digit\" + str(i) + \".csv\"\n",
    "    X = np.loadtxt(open(file_name,\"rb\"),delimiter=\",\")\n",
    "    digits.append(X)"
   ]
  },
  {
   "cell_type": "code",
   "execution_count": 84,
   "metadata": {
    "collapsed": false
   },
   "outputs": [
    {
     "name": "stdout",
     "output_type": "stream",
     "text": [
      "(1000, 784)\n"
     ]
    }
   ],
   "source": [
    "X = np.matrix(digits[0])\n",
    "D = X.shape[1]\n",
    "M = 200\n",
    "N = X.shape[0]\n",
    "print X.shape"
   ]
  },
  {
   "cell_type": "code",
   "execution_count": null,
   "metadata": {
    "collapsed": false
   },
   "outputs": [],
   "source": [
    "Qold = 0.0\n",
    "Qnew = 1.0\n",
    "EPS = 0.00001\n",
    "W_estim = np.random.random_sample((D,M))\n",
    "W_estim = np.matrix(W_estim)\n",
    "X = np.matrix(X)\n",
    "#print X.shape\n",
    "sigma_estim = 0.5\n",
    "cont = 0\n",
    "sample_mean = np.sum(X, axis=0) # Media muestral\n",
    "sample_mean = sample_mean*(1.0/N) # Media muestral\n",
    "#print sample_mean\n",
    "covariances = []\n",
    "for i in range(0,N):\n",
    "    tmp = np.zeros((M,M))\n",
    "    tmp = np.matrix(tmp)\n",
    "    covariances.append(tmp)\n",
    "\n",
    "m1 = X\n",
    "m1_norm = np.zeros((X.shape[0],1))\n",
    "m1_norm = np.matrix(m1_norm)\n",
    "#print m1.shape, sample_mean.shape\n",
    "for i in range(0, X.shape[0]):\n",
    "    m1[i,:] = m1[i,:] - sample_mean\n",
    "    m1_norm[i,0] = np.asscalar(m1[i,:]*np.transpose(m1[i,:]))\n",
    "    \n",
    "while(np.fabs(Qold - Qnew) >= EPS and cont <= 100):\n",
    "    # calcular Qold\n",
    "    # Calcular valores esperados\n",
    "    M_tmp = np.transpose(W_estim)*W_estim + sigma_estim*np.eye(M) # calcular matriz M\n",
    "    #print M_tmp.shape\n",
    "    exp_z = (np.linalg.inv(M_tmp)*np.transpose(W_estim))*(np.subtract(np.transpose(X), np.transpose(sample_mean))) # valor esperado Z\n",
    "    #print exp_z.shape\n",
    "    for i in range(0,N):        \n",
    "        tmp_cov = ((sigma_estim)*np.linalg.inv(M_tmp)) + np.outer(exp_z[:,i],np.transpose(exp_z[:,i]))\n",
    "        covariances[i] = tmp_cov        \n",
    "        \n",
    "    # actualizar parametros    \n",
    "    # Estimando W\n",
    "    W_estim = (m1.T*exp_z.T)\n",
    "    super_cov_z = covariances[0]    \n",
    "    for i in range(1,N):\n",
    "        super_cov_z += covariances[i]\n",
    "    #print super_cov_z.shape, W_estim.shape\n",
    "    W_estim = W_estim*np.linalg.inv(super_cov_z)\n",
    "    \n",
    "    # Estimando sigma\n",
    "    sigma_estim = 0.0\n",
    "    for i in range(0,N):         \n",
    "        sigma_estim += m1_norm[i,0] - np.asscalar((2.0*(exp_z[:,i].T*W_estim.T*m1[i,:].T))) + np.trace(covariances[i]*W_estim.T*W_estim)\n",
    "        sigma_estim = sigma_estim/N*D\n",
    "    cont += 1\n",
    "print W_estim\n",
    "print np.sqrt(sigma_estima)"
   ]
  },
  {
   "cell_type": "code",
   "execution_count": null,
   "metadata": {
    "collapsed": false
   },
   "outputs": [],
   "source": [
    "print W_estim.shape, exp_z.shape"
   ]
  },
  {
   "cell_type": "code",
   "execution_count": 80,
   "metadata": {
    "collapsed": true
   },
   "outputs": [],
   "source": [
    "X_rec = W_estim*exp_z + sigma_estim"
   ]
  },
  {
   "cell_type": "code",
   "execution_count": 81,
   "metadata": {
    "collapsed": false
   },
   "outputs": [
    {
     "name": "stdout",
     "output_type": "stream",
     "text": [
      "1.59933848581e+20\n"
     ]
    }
   ],
   "source": [
    "X_rec = X_rec.T\n",
    "X_real = digits[0]\n",
    "SSD = 0.0\n",
    "\n",
    "for i in range(0, X_rec.shape[0]):\n",
    "    diff = X_rec[i,:] - X_real[i,:]\n",
    "    diff = diff*diff.T\n",
    "    SSD += asscalar(diff)\n",
    "\n",
    "print SSD"
   ]
  },
  {
   "cell_type": "code",
   "execution_count": null,
   "metadata": {
    "collapsed": true
   },
   "outputs": [],
   "source": []
  }
 ],
 "metadata": {
  "kernelspec": {
   "display_name": "Python 2",
   "language": "python",
   "name": "python2"
  },
  "language_info": {
   "codemirror_mode": {
    "name": "ipython",
    "version": 2
   },
   "file_extension": ".py",
   "mimetype": "text/x-python",
   "name": "python",
   "nbconvert_exporter": "python",
   "pygments_lexer": "ipython2",
   "version": "2.7.6"
  }
 },
 "nbformat": 4,
 "nbformat_minor": 0
}
