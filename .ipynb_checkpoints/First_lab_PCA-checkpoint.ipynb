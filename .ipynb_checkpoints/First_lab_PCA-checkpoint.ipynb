{
 "cells": [
  {
   "cell_type": "code",
   "execution_count": 106,
   "metadata": {
    "collapsed": false
   },
   "outputs": [
    {
     "name": "stdout",
     "output_type": "stream",
     "text": [
      "Populating the interactive namespace from numpy and matplotlib\n"
     ]
    },
    {
     "name": "stderr",
     "output_type": "stream",
     "text": [
      "WARNING: pylab import has clobbered these variables: ['diff']\n",
      "`%matplotlib` prevents importing * from pylab and numpy\n"
     ]
    }
   ],
   "source": [
    "% pylab inline\n",
    "import numpy as np\n",
    "import math\n",
    "import matplotlib.pyplot as plt\n",
    "from mpl_toolkits.mplot3d.axes3d import Axes3D\n",
    "import pylab as pb\n",
    "from matplotlib import cm"
   ]
  },
  {
   "cell_type": "code",
   "execution_count": 107,
   "metadata": {
    "collapsed": true
   },
   "outputs": [],
   "source": [
    "digits = []\n",
    "for i in range(0,9):\n",
    "    file_name = \"digit\" + str(i) + \".csv\"\n",
    "    X = np.loadtxt(open(file_name,\"rb\"),delimiter=\",\")\n",
    "    digits.append(X)"
   ]
  },
  {
   "cell_type": "code",
   "execution_count": 108,
   "metadata": {
    "collapsed": false
   },
   "outputs": [],
   "source": [
    "# Normalizing Data\n",
    "for i in range(0,9):\n",
    "    X = digits[i]\n",
    "    for j in range(0,X.shape[0]):\n",
    "        for k in range(0,X.shape[1]):\n",
    "            X[j,k] = X[j,k]/255.0\n",
    "    digits[i] = X\n",
    "#print digits[0][0,:]"
   ]
  },
  {
   "cell_type": "code",
   "execution_count": 109,
   "metadata": {
    "collapsed": false
   },
   "outputs": [
    {
     "name": "stdout",
     "output_type": "stream",
     "text": [
      "(1000, 784)\n"
     ]
    }
   ],
   "source": [
    "X = np.matrix(digits[0])\n",
    "D = X.shape[1]\n",
    "M = 200\n",
    "N = X.shape[0]\n",
    "print X.shape"
   ]
  },
  {
   "cell_type": "code",
   "execution_count": null,
   "metadata": {
    "collapsed": false
   },
   "outputs": [],
   "source": [
    "Qold = 0.0\n",
    "Qnew = 1.0\n",
    "EPS = 0.00001\n",
    "W_estim = np.random.random_sample((D,M))\n",
    "W_estim = np.matrix(W_estim)\n",
    "X = np.matrix(X)\n",
    "sigma_estim = 10.0\n",
    "cont = 0\n",
    "sample_mean = np.sum(X, axis=0) # Media muestral\n",
    "sample_mean = sample_mean*(1.0/N) # Media muestral\n",
    "\n",
    "#print sample_mean\n",
    "covariances = []\n",
    "for i in range(0,N):\n",
    "    tmp = np.zeros((M,M))\n",
    "    tmp = np.matrix(tmp)\n",
    "    covariances.append(tmp)\n",
    "\n",
    "m1 = np.copy(X)\n",
    "m1 = np.matrix(m1)\n",
    "m1_norm = np.zeros((X.shape[0],1))\n",
    "m1_norm = np.matrix(m1_norm)\n",
    "\n",
    "\n",
    "for i in range(0, X.shape[0]):\n",
    "    m1[i,:] = m1[i,:] - sample_mean\n",
    "    m1_norm[i,0] = np.asscalar(m1[i,:]*m1[i,:].T)\n",
    "\n",
    "super_exp_z = 0\n",
    "while(np.fabs(Qold - Qnew) >= EPS and cont <= 200):\n",
    "    # calcular Qold\n",
    "    # Calcular valores esperados\n",
    "    M_tmp = W_estim.T*W_estim + sigma_estim*np.eye(M) \n",
    "    exp_z = (np.linalg.inv(M_tmp)*W_estim.T)*(m1.T)\n",
    "    super_exp_z = np.copy(exp_z)\n",
    "    for i in range(0,N):        \n",
    "        tmp_cov = ((sigma_estim)*np.linalg.inv(M_tmp)) + np.outer(exp_z[:,i],exp_z[:,i].T)\n",
    "        covariances[i] = tmp_cov        \n",
    "        \n",
    "    # actualizar parametros    \n",
    "    # Estimando W    \n",
    "    W_estim = (m1.T*exp_z.T)\n",
    "    super_cov_z = covariances[0]    \n",
    "    for i in range(1,N):\n",
    "        super_cov_z += covariances[i]\n",
    "        \n",
    "    W_estim = W_estim*np.linalg.inv(super_cov_z)    \n",
    "    # Estimando sigma\n",
    "    sigma_estim = 0.0\n",
    "    for i in range(0,N):         \n",
    "        sigma_estim += m1_norm[i,0] - np.asscalar((2.0*(exp_z[:,i].T*W_estim.T*m1[i,:].T))) + np.trace(covariances[i]*W_estim.T*W_estim)        \n",
    "    sigma_estim *= (1.0/(N*D))\n",
    "    cont += 1\n",
    "    \n",
    "print W_estim\n",
    "print sigma_estim"
   ]
  },
  {
   "cell_type": "code",
   "execution_count": 101,
   "metadata": {
    "collapsed": false
   },
   "outputs": [
    {
     "name": "stdout",
     "output_type": "stream",
     "text": [
      "(784, 200) (200, 1000)\n",
      "[[ 0.  0.  0. ...,  0.  0.  0.]\n",
      " [ 0.  0.  0. ...,  0.  0.  0.]\n",
      " [ 0.  0.  0. ...,  0.  0.  0.]\n",
      " ..., \n",
      " [ 0.  0.  0. ...,  0.  0.  0.]\n",
      " [ 0.  0.  0. ...,  0.  0.  0.]\n",
      " [ 0.  0.  0. ...,  0.  0.  0.]]\n",
      "14.8206273164\n"
     ]
    }
   ],
   "source": [
    "print W_estim.shape, exp_z.shape\n",
    "print W_estim\n",
    "print np.sqrt(sigma_estim)"
   ]
  },
  {
   "cell_type": "code",
   "execution_count": 104,
   "metadata": {
    "collapsed": true
   },
   "outputs": [],
   "source": [
    "X_rec = W_estim*super_exp_z #+ np.sqrt(sigma_estim)\n",
    "for i in range(0,X_rec.shape[1]):\n",
    "    X_rec[:,i] = X_rec[:,i] + sample_mean.T"
   ]
  },
  {
   "cell_type": "code",
   "execution_count": 105,
   "metadata": {
    "collapsed": false
   },
   "outputs": [
    {
     "name": "stdout",
     "output_type": "stream",
     "text": [
      "121.008556125\n"
     ]
    }
   ],
   "source": [
    "X_rec = X_rec.T\n",
    "X_real = digits[0]\n",
    "SSD = 0.0\n",
    "for i in range(0, X_rec.shape[0]):\n",
    "    diff = X_rec[i,:] - X_real[i,:]\n",
    "    diff = diff*diff.T\n",
    "    SSD += asscalar(diff)\n",
    "\n",
    "print SSD/N"
   ]
  },
  {
   "cell_type": "code",
   "execution_count": null,
   "metadata": {
    "collapsed": true
   },
   "outputs": [],
   "source": []
  }
 ],
 "metadata": {
  "kernelspec": {
   "display_name": "Python 2",
   "language": "python",
   "name": "python2"
  },
  "language_info": {
   "codemirror_mode": {
    "name": "ipython",
    "version": 2
   },
   "file_extension": ".py",
   "mimetype": "text/x-python",
   "name": "python",
   "nbconvert_exporter": "python",
   "pygments_lexer": "ipython2",
   "version": "2.7.6"
  }
 },
 "nbformat": 4,
 "nbformat_minor": 0
}
