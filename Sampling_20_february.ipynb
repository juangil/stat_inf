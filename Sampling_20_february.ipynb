{
 "cells": [
  {
   "cell_type": "code",
   "execution_count": 2,
   "metadata": {
    "collapsed": false
   },
   "outputs": [
    {
     "name": "stdout",
     "output_type": "stream",
     "text": [
      "Populating the interactive namespace from numpy and matplotlib\n"
     ]
    }
   ],
   "source": [
    "% pylab inline\n",
    "import numpy as np\n",
    "import math\n",
    "import matplotlib.pyplot as plt\n",
    "from mpl_toolkits.mplot3d.axes3d import Axes3D\n",
    "import pylab as pb\n",
    "from matplotlib import cm\n",
    "from scipy.stats import norm\n",
    "from scipy.special import gamma\n",
    "from scipy.stats import chi\n",
    "from scipy.stats import bernoulli\n",
    "from scipy.stats import multivariate_normal"
   ]
  },
  {
   "cell_type": "markdown",
   "metadata": {},
   "source": [
    "## Rejection Sampling"
   ]
  },
  {
   "cell_type": "markdown",
   "metadata": {},
   "source": [
    "### Rejection sampling over a gaussian with unknown mean"
   ]
  },
  {
   "cell_type": "code",
   "execution_count": 7,
   "metadata": {
    "collapsed": false
   },
   "outputs": [
    {
     "name": "stdout",
     "output_type": "stream",
     "text": [
      "1.33714514054e-05\n",
      "(38,)\n"
     ]
    }
   ],
   "source": [
    "mu0 = 0.0\n",
    "var0 = 5.0\n",
    "mean_real = 0.8\n",
    "var_real = 0.2\n",
    "N = 20\n",
    "M = 1000\n",
    "X = np.random.normal(mean_real, np.sqrt(var_real), N)\n",
    "#print X\n",
    "\n",
    "def parzenmio(X, X_ev, h, N):\n",
    "    P_X = np.copy(X)\n",
    "    msum = np.zeros(N)\n",
    "    for j in range(0,X.shape[0]):\n",
    "        msum += norm.pdf(X_ev, X[j], np.sqrt(h))\n",
    "    P_X = msum/N\n",
    "    return P_X\n",
    "\n",
    "def parzendiego(x, samples, h2, N):\n",
    "    N = np.size(samples)\n",
    "    ret = np.zeros(np.size(x))\n",
    "    for i in xrange(N):\n",
    "        ret += multivariate_normal.pdf(x, samples[i], h2)\n",
    "    return ret / N\n",
    "\n",
    "def likelihood_gaussian(X_ev, mu, sigma):\n",
    "    ret = np.copy(mu)\n",
    "    for i in range(0,mu.shape[0]):\n",
    "        tmp = norm.pdf(X_ev, mu[i], np.sqrt(sigma))\n",
    "        #print tmp.shape\n",
    "        ret[i] = np.asscalar(np.prod(tmp))\n",
    "    return ret\n",
    "\n",
    "def compute_k(X_ev):\n",
    "    k = np.sum(X_ev)/X_ev.shape[0]\n",
    "    ml_mean = np.zeros(1)\n",
    "    ml_mean[0] = np.asscalar(k)\n",
    "    ret = likelihood_gaussian(X_ev, ml_mean, var_real)\n",
    "    return np.asscalar(ret)\n",
    "\n",
    "def get_samples_reject(X, number):\n",
    "    prop_samples = np.random.normal(mu0, np.sqrt(var0), number)\n",
    "    k = compute_k(X)\n",
    "    print k\n",
    "    uniform_samples = np.random.uniform(size=number) * k * norm.pdf(prop_samples, mu0, np.sqrt(var0))\n",
    "    cond = uniform_samples <= np.multiply(likelihood_gaussian(X, prop_samples, var_real),norm.pdf(prop_samples, mu0, np.sqrt(var0)))\n",
    "    return prop_samples[cond]\n",
    "\n",
    "Z = get_samples_reject(X, M)\n",
    "print Z.shape"
   ]
  },
  {
   "cell_type": "code",
   "execution_count": 13,
   "metadata": {
    "collapsed": true
   },
   "outputs": [],
   "source": [
    "X_eval = np.linspace(-2.0,2.0, 1000)\n",
    "Y = norm.pdf(X_eval, mean_real, np.sqrt(var_real))"
   ]
  },
  {
   "cell_type": "code",
   "execution_count": 14,
   "metadata": {
    "collapsed": false
   },
   "outputs": [
    {
     "data": {
      "text/plain": [
       "[<matplotlib.lines.Line2D at 0x7f8a7f88e210>]"
      ]
     },
     "execution_count": 14,
     "metadata": {},
     "output_type": "execute_result"
    },
    {
     "data": {
      "image/png": "[encoded data removed]",
      "text/plain": [
       "<matplotlib.figure.Figure at 0x7f8a7f7d8750>"
      ]
     },
     "metadata": {},
     "output_type": "display_data"
    }
   ],
   "source": [
    "P_Z = parzendiego(X_eval, Z, 0.2, 1000)\n",
    "pb.plot(X_eval, Y)\n",
    "pb.plot(X_eval, P_Z)"
   ]
  },
  {
   "cell_type": "markdown",
   "metadata": {},
   "source": [
    "### Rejection sampling with unknown mean and var(Homework)"
   ]
  },
  {
   "cell_type": "code",
   "execution_count": 85,
   "metadata": {
    "collapsed": true
   },
   "outputs": [],
   "source": []
  },
  {
   "cell_type": "markdown",
   "metadata": {},
   "source": [
    "## SIR Method"
   ]
  },
  {
   "cell_type": "code",
   "execution_count": 202,
   "metadata": {
    "collapsed": false
   },
   "outputs": [
    {
     "data": {
      "text/plain": [
       "[<matplotlib.lines.Line2D at 0x1106e1a50>]"
      ]
     },
     "execution_count": 202,
     "metadata": {},
     "output_type": "execute_result"
    },
    {
     "data": {
      "image/png": "[encoded data removed]",
      "text/plain": [
       "<matplotlib.figure.Figure at 0x1109c0610>"
      ]
     },
     "metadata": {},
     "output_type": "display_data"
    }
   ],
   "source": [
    "N = 1000\n",
    "X_eval = np.linspace(0.0, 15.0, N)\n",
    "var_1 = 0.5\n",
    "Y_eval = np.exp((-1.0*np.power(X_eval, 2))/2.0)\n",
    "Y_eval_norm = Y_eval*(2.0/np.sqrt(2.0*math.pi))\n",
    "pb.plot(X_eval, Y_eval)\n",
    "pb.plot(X_eval, Y_eval_norm)"
   ]
  },
  {
   "cell_type": "code",
   "execution_count": 216,
   "metadata": {
    "collapsed": false
   },
   "outputs": [
    {
     "name": "stdout",
     "output_type": "stream",
     "text": [
      "[  9.40273944e-06   1.18033074e-05   1.28187335e-05   9.18583041e-06\n",
      "   1.12099761e-05   1.31625347e-05   4.40994780e-06   1.31123097e-05\n",
      "   1.18578945e-05   1.29059685e-05   1.25595973e-05   1.18219725e-05\n",
      "   1.22678497e-05   3.59646494e-07   6.82183826e-06   1.28123523e-05\n",
      "   1.12702085e-05   1.10452593e-05   9.97325552e-06   1.11251444e-05]\n",
      "1.0\n"
     ]
    }
   ],
   "source": [
    "def not_normalized_gaussian(X_eval):\n",
    "    Y_eval = np.exp((-1.0*np.power(X_eval, 2))/2.0)\n",
    "    #print Y_eval\n",
    "    return Y_eval\n",
    "\n",
    "def exponential_pdf(X_eval, la=1.0):\n",
    "    Y_eval = la*np.exp(-la*X_eval)\n",
    "    #print Y_eval\n",
    "    return Y_eval\n",
    "\n",
    "N = 100000\n",
    "prop_samples = np.random.exponential(size=N)\n",
    "mnum = np.divide(not_normalized_gaussian(prop_samples), exponential_pdf(prop_samples))\n",
    "mdem = np.sum(mnum)\n",
    "W_l = mnum * (1.0/mdem)\n",
    "print np.sum(W_l)"
   ]
  },
  {
   "cell_type": "code",
   "execution_count": 219,
   "metadata": {
    "collapsed": false
   },
   "outputs": [],
   "source": [
    "# Multinomial sampling\n",
    "M = 10000\n",
    "new_samples = np.zeros(M)\n",
    "for i in range(0,M):\n",
    "    idx = np.random.multinomial(1, W_l, 1)\n",
    "    idx = np.array(idx, dtype=bool)\n",
    "    idx = idx.flatten()\n",
    "    new_samples[i] = np.asscalar(prop_samples[idx])\n"
   ]
  },
  {
   "cell_type": "code",
   "execution_count": 222,
   "metadata": {
    "collapsed": false
   },
   "outputs": [
    {
     "data": {
      "text/plain": [
       "[<matplotlib.lines.Line2D at 0x112305950>]"
      ]
     },
     "execution_count": 222,
     "metadata": {},
     "output_type": "execute_result"
    },
    {
     "data": {
      "image/png": "[encoded data removed]",
      "text/plain": [
       "<matplotlib.figure.Figure at 0x112305790>"
      ]
     },
     "metadata": {},
     "output_type": "display_data"
    }
   ],
   "source": [
    "P_Z = parzendiego(X_eval, new_samples, 0.07, M)\n",
    "pb.plot(X_eval, Y_eval_norm)\n",
    "pb.plot(X_eval, P_Z)"
   ]
  },
  {
   "cell_type": "markdown",
   "metadata": {},
   "source": [
    "## SIR Method for fitting a guassian model with unknown mean and given variance"
   ]
  },
  {
   "cell_type": "code",
   "execution_count": 231,
   "metadata": {
    "collapsed": false
   },
   "outputs": [
    {
     "name": "stdout",
     "output_type": "stream",
     "text": [
      "1.0\n"
     ]
    }
   ],
   "source": [
    "mu0 = 0.0\n",
    "var0 = 5.0\n",
    "mean_real = 0.8\n",
    "var_real = 0.2\n",
    "N = 100\n",
    "M = 1000\n",
    "X = np.random.normal(mean_real, np.sqrt(var_real), N)\n",
    "\n",
    "def likelihood_gaussian(X_ev, mu, sigma):\n",
    "    ret = np.copy(mu)\n",
    "    for i in range(0,mu.shape[0]):\n",
    "        tmp = norm.pdf(X_ev, mu[i], np.sqrt(sigma))\n",
    "        #print tmp.shape\n",
    "        ret[i] = np.asscalar(np.prod(tmp))\n",
    "    return ret\n",
    "\n",
    "N = 20000\n",
    "prop_samples = np.random.normal(mu0, np.sqrt(var0), N)\n",
    "mnum = np.divide(likelihood_gaussian(X, prop_samples, var_real), norm.pdf(prop_samples, mu0, np.sqrt(var0)))\n",
    "mdem = np.sum(mnum)\n",
    "W_l = mnum * (1.0/mdem)\n",
    "print np.sum(W_l)"
   ]
  },
  {
   "cell_type": "code",
   "execution_count": 232,
   "metadata": {
    "collapsed": false
   },
   "outputs": [],
   "source": [
    "# Multinomial sampling\n",
    "M = 10000\n",
    "new_samples = np.zeros(M)\n",
    "for i in range(0,M):\n",
    "    idx = np.random.multinomial(1, W_l, 1)\n",
    "    idx = np.array(idx, dtype=bool)\n",
    "    idx = idx.flatten()\n",
    "    new_samples[i] = np.asscalar(prop_samples[idx])"
   ]
  },
  {
   "cell_type": "code",
   "execution_count": 237,
   "metadata": {
    "collapsed": false
   },
   "outputs": [
    {
     "data": {
      "text/plain": [
       "[<matplotlib.lines.Line2D at 0x1133e1610>]"
      ]
     },
     "execution_count": 237,
     "metadata": {},
     "output_type": "execute_result"
    },
    {
     "data": {
      "image/png": "[encoded data removed]",
      "text/plain": [
       "<matplotlib.figure.Figure at 0x1133e1650>"
      ]
     },
     "metadata": {},
     "output_type": "display_data"
    }
   ],
   "source": [
    "P_Z = parzendiego(X_eval, new_samples, 0.2, M)\n",
    "X_eval = np.linspace(-2.0,2.0, 1000)\n",
    "Y = norm.pdf(X_eval, mean_real, np.sqrt(var_real))\n",
    "pb.plot(X_eval, Y)\n",
    "pb.plot(X_eval, P_Z)"
   ]
  },
  {
   "cell_type": "markdown",
   "metadata": {},
   "source": [
    "## SIR Method for fitting a Gaussian model with unknown variance and mean"
   ]
  },
  {
   "cell_type": "code",
   "execution_count": null,
   "metadata": {
    "collapsed": true
   },
   "outputs": [],
   "source": [
    "def parzenmio_multivariate(X, X_ev, h, N):\n",
    "    P_X = np.copy(X)\n",
    "    msum = np.zeros(N)\n",
    "    for j in range(0,X.shape[0]):\n",
    "        msum += multivariate_normal.pdf(X_ev[j,:], X[j,:], np.sqrt(h))\n",
    "    P_X = msum/N\n",
    "    return P_X"
   ]
  },
  {
   "cell_type": "code",
   "execution_count": 3,
   "metadata": {
    "collapsed": false
   },
   "outputs": [
    {
     "name": "stdout",
     "output_type": "stream",
     "text": [
      "576\n",
      "1.0\n"
     ]
    }
   ],
   "source": [
    "mu0 = 0.0\n",
    "var0 = 5.0\n",
    "mean_real = 0.8\n",
    "var_real = 0.2\n",
    "\n",
    "N = 100\n",
    "M = 1000\n",
    "X = np.random.normal(mean_real, np.sqrt(var_real), N)\n",
    "\n",
    "def likelihood_gaussian(X_ev, mu, sigma):\n",
    "    ret = np.copy(mu)\n",
    "    for i in range(0,mu.shape[0]):\n",
    "        tmp = norm.pdf(X_ev, mu[i], np.sqrt(1.0/sigma[i]))\n",
    "        #print tmp.shape\n",
    "        ret[i] = np.asscalar(np.prod(tmp))\n",
    "    return ret\n",
    "\n",
    "N = 20000\n",
    "prop_samples_prec = np.random.gamma(2.0, 2.0, N)\n",
    "prop_samples_mean = np.zeros(N)\n",
    "for i in range(0,N):\n",
    "    prop_samples_mean[i] = np.random.normal(mu0, np.sqrt(1.0/prop_samples_prec[i]))\n",
    "    \n",
    "mnum = likelihood_gaussian(X, prop_samples_mean, prop_samples_prec)\n",
    "mdem = np.sum(mnum)\n",
    "W_l = mnum * (1.0/mdem)\n",
    "print (W_l > 1e-5).sum()\n",
    "print np.sum(W_l)"
   ]
  },
  {
   "cell_type": "code",
   "execution_count": 4,
   "metadata": {
    "collapsed": true
   },
   "outputs": [],
   "source": [
    "# Multinomial sampling\n",
    "M = 10000\n",
    "new_samples_mean = np.zeros(M)\n",
    "new_samples_prec = np.zeros(M)\n",
    "for i in range(0,M):\n",
    "    idx = np.random.multinomial(1, W_l, 1)\n",
    "    idx = np.array(idx, dtype=bool)\n",
    "    idx = idx.flatten()\n",
    "    new_samples_mean[i] = np.asscalar(prop_samples_mean[idx])\n",
    "    new_samples_prec[i] = np.asscalar(prop_samples_prec[idx])"
   ]
  },
  {
   "cell_type": "code",
   "execution_count": 5,
   "metadata": {
    "collapsed": false
   },
   "outputs": [
    {
     "ename": "AttributeError",
     "evalue": "'module' object has no attribute 'stack'",
     "output_type": "error",
     "traceback": [
      "\u001b[1;31m---------------------------------------------------------------------------\u001b[0m",
      "\u001b[1;31mAttributeError\u001b[0m                            Traceback (most recent call last)",
      "\u001b[1;32m<ipython-input-5-08b8e9b2837f>\u001b[0m in \u001b[0;36m<module>\u001b[1;34m()\u001b[0m\n\u001b[0;32m      1\u001b[0m \u001b[0mpb\u001b[0m\u001b[1;33m.\u001b[0m\u001b[0mplot\u001b[0m\u001b[1;33m(\u001b[0m\u001b[0mnew_samples_mean\u001b[0m\u001b[1;33m,\u001b[0m \u001b[0mnew_samples_prec\u001b[0m\u001b[1;33m,\u001b[0m \u001b[1;34m'bo'\u001b[0m\u001b[1;33m)\u001b[0m\u001b[1;33m\u001b[0m\u001b[0m\n\u001b[1;32m----> 2\u001b[1;33m \u001b[0mall_params\u001b[0m \u001b[1;33m=\u001b[0m \u001b[0mnp\u001b[0m\u001b[1;33m.\u001b[0m\u001b[0mstack\u001b[0m\u001b[1;33m(\u001b[0m\u001b[1;33m[\u001b[0m\u001b[0mnew_samples_mean\u001b[0m\u001b[1;33m,\u001b[0m \u001b[0mnew_samples_prec\u001b[0m\u001b[1;33m]\u001b[0m\u001b[1;33m,\u001b[0m \u001b[0maxis\u001b[0m\u001b[1;33m=\u001b[0m\u001b[1;36m0\u001b[0m\u001b[1;33m)\u001b[0m\u001b[1;33m\u001b[0m\u001b[0m\n\u001b[0m\u001b[0;32m      3\u001b[0m \u001b[0mall_new_params\u001b[0m \u001b[1;33m=\u001b[0m \u001b[0mnp\u001b[0m\u001b[1;33m.\u001b[0m\u001b[0mstack\u001b[0m\u001b[1;33m(\u001b[0m\u001b[1;33m[\u001b[0m\u001b[0mprop_samples_mean\u001b[0m\u001b[1;33m,\u001b[0m \u001b[0mprop_samples_prec\u001b[0m\u001b[1;33m]\u001b[0m\u001b[1;33m,\u001b[0m \u001b[0maxis\u001b[0m\u001b[1;33m=\u001b[0m\u001b[1;36m0\u001b[0m\u001b[1;33m)\u001b[0m\u001b[1;33m\u001b[0m\u001b[0m\n\u001b[0;32m      4\u001b[0m \u001b[1;31m#all_params = np.matrix(all_params)\u001b[0m\u001b[1;33m\u001b[0m\u001b[1;33m\u001b[0m\u001b[0m\n",
      "\u001b[1;31mAttributeError\u001b[0m: 'module' object has no attribute 'stack'"
     ]
    },
    {
     "data": {
      "image/png": "[encoded data removed]",
      "text/plain": [
       "<matplotlib.figure.Figure at 0x7f0caff6a2d0>"
      ]
     },
     "metadata": {},
     "output_type": "display_data"
    }
   ],
   "source": [
    "pb.plot(new_samples_mean, new_samples_prec, 'bo')\n",
    "all_params = np.stack([new_samples_mean, new_samples_prec], axis=0)\n",
    "all_new_params = np.stack([prop_samples_mean, prop_samples_prec], axis=0)\n",
    "#all_params = np.matrix(all_params)"
   ]
  },
  {
   "cell_type": "code",
   "execution_count": 255,
   "metadata": {
    "collapsed": false
   },
   "outputs": [
    {
     "name": "stdout",
     "output_type": "stream",
     "text": [
      "[[ 0.81167898  5.84643209]\n",
      " [ 0.78489953  3.93439194]\n",
      " [ 0.7649812   5.28941861]\n",
      " ..., \n",
      " [ 0.84982878  6.22995542]\n",
      " [ 0.7635445   3.82204464]\n",
      " [ 0.78322694  4.82097936]]\n",
      "[[  1.96834653e-01   8.08261585e+00]\n",
      " [ -3.57014107e-01   2.88604243e+00]\n",
      " [  2.92668030e-01   2.72880915e+00]\n",
      " ..., \n",
      " [ -9.24399358e-01   4.53773999e-01]\n",
      " [  6.67147802e-01   3.71725679e+00]\n",
      " [ -4.19253137e-03   1.92385209e+00]]\n"
     ]
    }
   ],
   "source": []
  },
  {
   "cell_type": "code",
   "execution_count": null,
   "metadata": {
    "collapsed": true
   },
   "outputs": [],
   "source": []
  }
 ],
 "metadata": {
  "kernelspec": {
   "display_name": "Python 2",
   "language": "python",
   "name": "python2"
  },
  "language_info": {
   "codemirror_mode": {
    "name": "ipython",
    "version": 2
   },
   "file_extension": ".py",
   "mimetype": "text/x-python",
   "name": "python",
   "nbconvert_exporter": "python",
   "pygments_lexer": "ipython2",
   "version": "2.7.6"
  }
 },
 "nbformat": 4,
 "nbformat_minor": 0
}
