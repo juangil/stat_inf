{
 "cells": [
  {
   "cell_type": "markdown",
   "metadata": {},
   "source": [
    "# Laboratory No. 3. Statistical Inference\n",
    "# Excercise 1:\n",
    "# Gaussian Model Fitting using MC Methods\n",
    "### presented by: Juan David Gil and Juan Sebastián Silva\n",
    "### Date: 18 March 2016"
   ]
  },
  {
   "cell_type": "code",
   "execution_count": 112,
   "metadata": {
    "collapsed": false
   },
   "outputs": [
    {
     "name": "stdout",
     "output_type": "stream",
     "text": [
      "Populating the interactive namespace from numpy and matplotlib\n"
     ]
    },
    {
     "name": "stderr",
     "output_type": "stream",
     "text": [
      "WARNING: pylab import has clobbered these variables: ['norm', 'gamma', 'multivariate_normal']\n",
      "`%matplotlib` prevents importing * from pylab and numpy\n"
     ]
    }
   ],
   "source": [
    "% pylab inline\n",
    "import numpy as np\n",
    "import math\n",
    "import matplotlib.pyplot as plt\n",
    "from mpl_toolkits.mplot3d.axes3d import Axes3D\n",
    "import pylab as pb\n",
    "from matplotlib import cm\n",
    "from scipy import stats\n",
    "from scipy.stats import norm\n",
    "from scipy.special import gamma as gammafun\n",
    "from scipy.stats import chi\n",
    "from scipy.stats import multivariate_normal\n",
    "from scipy.stats import gamma"
   ]
  },
  {
   "cell_type": "markdown",
   "metadata": {},
   "source": [
    "# Using a closed form"
   ]
  },
  {
   "cell_type": "markdown",
   "metadata": {},
   "source": [
    "## Fitting a Gaussian model with unkown mean "
   ]
  },
  {
   "cell_type": "code",
   "execution_count": 177,
   "metadata": {
    "collapsed": false
   },
   "outputs": [
    {
     "data": {
      "image/png": "[encoded data removed]",
      "text/plain": [
       "<matplotlib.figure.Figure at 0x7fc94a9146d0>"
      ]
     },
     "metadata": {},
     "output_type": "display_data"
    }
   ],
   "source": [
    "mean_real = 0.8 # Real mean of the\n",
    "var_real = 0.2 # Real variance of the data\n",
    "N = 100\n",
    "X_eval = np.linspace(-2.0,2.0,200)\n",
    "mean_prior = 0.5 # Prior mean for the distribution over the mean\n",
    "var_prior = 50.0 # Prior variance for the distribution over the variance\n",
    "n_dat = [1,5,10,100]\n",
    "Y = norm.pdf(X_eval, mean_real, np.sqrt(var_real))\n",
    "Y = norm.pdf(X_eval, mean_prior, var_prior)\n",
    "pb.title('Figure 1. Evolution of posterior over the mean given N data points')\n",
    "pb.plot(X_eval,Y)\n",
    "for n in n_dat:\n",
    "    X = np.random.normal(mean_real, np.sqrt(var_real), n)\n",
    "    mean_ml = (1.0/n)*np.sum(X)\n",
    "    posterior_mean = ((var_real/(n*var_prior + var_real))*mean_prior) + ((n*var_prior/(n*var_prior + var_real))*mean_ml)\n",
    "    posterior_var = (var_prior*var_real)/((n*var_prior) + var_real)\n",
    "    y = norm.pdf(X_eval, posterior_mean, np.sqrt(posterior_var))\n",
    "    mlabel = str(n)\n",
    "    pb.plot(X_eval, y, label=mlabel)\n",
    "    pb.legend(loc='upper left')"
   ]
  },
  {
   "cell_type": "markdown",
   "metadata": {},
   "source": [
    "##Fitting a Gaussina model with unknown mean and variance(Precision) "
   ]
  },
  {
   "cell_type": "code",
   "execution_count": 3,
   "metadata": {
    "collapsed": false
   },
   "outputs": [],
   "source": [
    "np.random.seed(2)\n",
    "def showNormalGamma(a_n, b_n, mean_prior, beta_prior, title, m=20, tolerance_mean=1.0, tolerance_lambda=1.0):\n",
    "    #m = 20\n",
    "    if(beta_prior - tolerance_lambda < 0.0):\n",
    "        mlow = 0.1\n",
    "    else:\n",
    "        mlow = beta_prior - tolerance_lambda\n",
    "    mhigh = beta_prior + tolerance_lambda\n",
    "    m_lambda = np.linspace(mlow, mhigh, m)\n",
    "    \n",
    "    mlow = mean_prior - tolerance_mean\n",
    "    mhigh = mean_prior + tolerance_mean\n",
    "    m_mean = np.linspace(mlow, mhigh, m)\n",
    "    \n",
    "    z = np.zeros((m,m))\n",
    "    i = 0\n",
    "    #print (a_n-0.5)/b_n\n",
    "    for t_lambda in m_lambda:\n",
    "        j = 0\n",
    "        mgamma = gamma(a_n)\n",
    "        result_gamma = (1.0/mgamma)*(b_n**a_n)*(t_lambda**(a_n-1.0))*np.exp(-1.0*b_n*t_lambda)\n",
    "        for t_mean in m_mean:\n",
    "            mvar = 1.0/(beta_prior*t_lambda)\n",
    "            y = multivariate_normal.pdf(t_mean, mean=mean_prior, cov=mvar)\n",
    "            z[j,i] = y*result_gamma\n",
    "            j+=1\n",
    "        i+=1\n",
    "    pb.title(title + ' over the mean and precision')\n",
    "    #pb.imshow(z, extent=[8.0,12.0,-1.0,1.0])\n",
    "    pb.contourf(m_lambda, m_mean, z)\n",
    "    return\n",
    "    \n"
   ]
  },
  {
   "cell_type": "code",
   "execution_count": 4,
   "metadata": {
    "collapsed": false
   },
   "outputs": [
    {
     "data": {
      "image/png": "[encoded data removed]",
      "text/plain": [
       "<matplotlib.figure.Figure at 0x7fc94ad91910>"
      ]
     },
     "metadata": {},
     "output_type": "display_data"
    }
   ],
   "source": [
    "beta_prior = 0.0001\n",
    "mean_prior = 1.0\n",
    "a_n = 2.0\n",
    "b_n = 1.0\n",
    "showNormalGamma(a_n, b_n, mean_prior, beta_prior, 'prior', 20, 5.0, 3.0)"
   ]
  },
  {
   "cell_type": "code",
   "execution_count": 5,
   "metadata": {
    "collapsed": false
   },
   "outputs": [
    {
     "name": "stdout",
     "output_type": "stream",
     "text": [
      "Real mean:  0.5  Real precision :  0.1\n",
      "Posterior_mean:  0.439310704366  Posterior Precision:  0.0969105734081\n"
     ]
    }
   ],
   "source": [
    "real_mean = 0.5\n",
    "precision = 0.1\n",
    "real_var = 1.0/precision\n",
    "np.random.seed(2)\n",
    "N = 10000\n",
    "X = np.random.normal(real_mean, np.sqrt(real_var), N)\n",
    "mean_ml = np.sum(X)/N\n",
    "mean_posterior = (beta_prior*mean_prior + N*mean_ml)/(beta_prior + N)\n",
    "beta_posterior = beta_prior + N\n",
    "a_n = a_n + (N/2.0)\n",
    "b_n = b_n + (0.5*(np.dot(X - mean_ml, X - mean_ml))) + ((beta_prior*N*(mean_ml - mean_prior)*(mean_ml - mean_prior))/2.0*(beta_prior + N))\n",
    "exp_lambda = a_n/b_n\n",
    "print 'Real mean: ', real_mean, ' Real precision : ', precision\n",
    "print 'Posterior_mean: ', mean_posterior, ' Posterior Precision: ', exp_lambda"
   ]
  },
  {
   "cell_type": "markdown",
   "metadata": {},
   "source": [
    "The values found by the closed form for the mean and the posterior are very close to the real values, the idea now is to use the sampling methods to match the compare them with the closed form, the next method is the rejection sampling method."
   ]
  },
  {
   "cell_type": "markdown",
   "metadata": {},
   "source": [
    "# Using sampling methods"
   ]
  },
  {
   "cell_type": "markdown",
   "metadata": {},
   "source": [
    "## Rejection Sampling "
   ]
  },
  {
   "cell_type": "markdown",
   "metadata": {},
   "source": [
    "### Rejection Sampling: Unknown mean and know variance"
   ]
  },
  {
   "cell_type": "markdown",
   "metadata": {},
   "source": [
    "First lets define some functions that will help with some computations. First the parzen method, that will help with the drawing of the distribution given the samples generated by rejection or any other method. This parzen is only for one dimention."
   ]
  },
  {
   "cell_type": "code",
   "execution_count": 178,
   "metadata": {
    "collapsed": true
   },
   "outputs": [],
   "source": [
    "def parzen(x, samples, h2, N):\n",
    "    N = np.size(samples)\n",
    "    ret = np.zeros(np.size(x))\n",
    "    for i in xrange(N):\n",
    "        ret += multivariate_normal.pdf(x, samples[i], h2)\n",
    "    return ret / N"
   ]
  },
  {
   "cell_type": "markdown",
   "metadata": {},
   "source": [
    "Next the some functions required for computing the Rejection Sampling, it's neccesary to compute the likelihood in the maximum value to know what will be the value of k using to reject the samples generated."
   ]
  },
  {
   "cell_type": "code",
   "execution_count": 179,
   "metadata": {
    "collapsed": true
   },
   "outputs": [],
   "source": [
    "def likelihood_gaussian(X_ev, mu, sigma, flag=0):\n",
    "    ret = np.copy(mu)\n",
    "    for i in range(0,mu.shape[0]):\n",
    "        tmp = norm.pdf(X_ev, mu[i], np.sqrt(sigma))\n",
    "        #print tmp.shape\n",
    "        ret[i] = np.asscalar(np.prod(tmp))\n",
    "    return ret\n",
    "\n",
    "def compute_k(X_ev, var_real, flag=0):\n",
    "    k = np.sum(X_ev)/X_ev.shape[0]\n",
    "    ml_mean = np.zeros(1)\n",
    "    ml_mean[0] = np.asscalar(k)\n",
    "    ret = likelihood_gaussian(X_ev, ml_mean, var_real)\n",
    "    return np.asscalar(ret)\n",
    "\n",
    "def get_samples_reject(X, number, var_real, flag=0):\n",
    "    prop_samples = np.random.normal(mu0, np.sqrt(var0), number)\n",
    "    k = compute_k(X, var_real)\n",
    "    uniform_samples = np.random.uniform(size=number) * k * norm.pdf(prop_samples, mu0, np.sqrt(var0))\n",
    "    cond = uniform_samples <= np.multiply(likelihood_gaussian(X, prop_samples, var_real),norm.pdf(prop_samples, mu0, np.sqrt(var0)))\n",
    "    return prop_samples[cond]"
   ]
  },
  {
   "cell_type": "code",
   "execution_count": 230,
   "metadata": {
    "collapsed": false
   },
   "outputs": [
    {
     "data": {
      "image/png": "[encoded data removed]",
      "text/plain": [
       "<matplotlib.figure.Figure at 0x7fc9497c4f10>"
      ]
     },
     "metadata": {},
     "output_type": "display_data"
    }
   ],
   "source": [
    "mu0 = 0.0 # Mean of the prior for the mean\n",
    "var0 = 10.0 # Variance of the prior for the mean\n",
    "mean_real = 0.8 # Real mean for generating the data\n",
    "var_real = 0.1 # Real variance for generating data\n",
    "N = 20 # Amount of data\n",
    "M = 1000 # Amount of desired(not actual) samples\n",
    "n_dat = [1,5,10,20,100]\n",
    "X_eval = np.linspace(-2.0,2.0, 1000)\n",
    "Y = norm.pdf(X_eval, mean_real, np.sqrt(var_real))\n",
    "pb.plot(X_eval, Y, label='real')\n",
    "for n in n_dat:\n",
    "    X = np.random.normal(mean_real, np.sqrt(var_real), n)\n",
    "    Z = get_samples_reject(X, M, var_real)    \n",
    "    P_Z = parzen(X_eval, Z, 0.1, 1000)\n",
    "    bestest = P_Z\n",
    "    pb.title('Distribution with rejection sampling')\n",
    "    mlabel = str(n)\n",
    "    pb.plot(X_eval, P_Z, label=mlabel)\n",
    "    pb.legend(loc='upper left')\n"
   ]
  },
  {
   "cell_type": "markdown",
   "metadata": {},
   "source": [
    "With rejection sampling one can have a very good estimation for the mean, with 100 data points the approximation with rejection sampling is similar to the one with the closed form, the mean is close to 0.8, which is the real mean used to generate the data points, the variance is different though."
   ]
  },
  {
   "cell_type": "markdown",
   "metadata": {},
   "source": [
    "### Rejection Sampling: Unknown mean and unknow variance(precision)"
   ]
  },
  {
   "cell_type": "code",
   "execution_count": 331,
   "metadata": {
    "collapsed": false
   },
   "outputs": [],
   "source": [
    "def likelihood_gaussian_mult(X_ev, mu, mlambda, flag=0):\n",
    "    ret = np.copy(mu)\n",
    "    for i in range(0, mlambda.shape[0]):\n",
    "        tmp = norm.pdf(X_ev, mu[i], np.sqrt(1.0/mlambda[i]))\n",
    "        ret[i] = np.asscalar(np.prod(tmp))\n",
    "    return ret\n",
    "\n",
    "def getNormalGammaSamples(nsamples, mu_mean0, a, b):\n",
    "    lambda_samples = np.random.gamma(a,b, nsamples)\n",
    "    mean_samples = np.zeros(nsamples)\n",
    "    for i in range(0,lambda_samples.shape[0]):\n",
    "        mean_samples[i] = np.random.normal(mu_mean0, np.sqrt(1.0/lambda_samples[i]), 1)\n",
    "    ret = np.vstack((mean_samples, lambda_samples))\n",
    "    return ret.T\n",
    "\n",
    "def normalGammaEval(mmean, mlambda, mu_mean0, a, b):\n",
    "    gamma_eval = stats.gamma.pdf(mlambda, a, loc=0, scale=b)\n",
    "    ret =  np.zeros(gamma_eval.shape[0])\n",
    "    for i in range(0, gamma_eval.shape[0]):\n",
    "        ret[i] = norm.pdf(mmean[i], mu_mean0, np.sqrt(1.0/mlambda[i]))*gamma_eval[i]\n",
    "    return ret    \n",
    "\n",
    "def compute_k_mult(X_ev,flag=0):\n",
    "    ml_mean = np.sum(X_ev)/X_ev.shape[0]\n",
    "    ml_variance = np.dot(X_ev - ml_mean, X_ev - ml_mean)/N\n",
    "    ml_lambda = 1.0/ml_variance\n",
    "    ml_mean_arr = np.zeros(1)\n",
    "    ml_lambda_arr = np.zeros(1)\n",
    "    ml_mean_arr[0] = ml_mean\n",
    "    ml_lambda_arr[0] = ml_lambda\n",
    "    ret = likelihood_gaussian_mult(X_ev, ml_mean_arr, ml_lambda_arr)\n",
    "    return np.asscalar(ret)\n",
    "\n",
    "def get_samples_reject_mult(X, number, mu_mean0, lambda_mean0, var0, a_n, b_n, flag=0):    \n",
    "    prop_samples = getNormalGammaSamples(number, mu_mean0, a_n, b_n)    \n",
    "    k = compute_k_mult(X)\n",
    "    print k\n",
    "    result_gamma = normalGammaEval(prop_samples[:,0], prop_samples[:,1], mu_mean0, a_n, b_n)\n",
    "    uniform_samples = np.multiply(np.random.uniform(size=number),result_gamma)*k\n",
    "    mlikelihood = likelihood_gaussian_mult(X, prop_samples[:,0], prop_samples[:,1])\n",
    "    #mnormal = np.zeros(prop_samples.shape[0])\n",
    "    #for i in range(0, prop_samples.shape[0]):\n",
    "        #mnormal[i] = norm.pdf(prop_samples[i,0], mu_mean0, np.sqrt(1.0/prop_samples[i,1]))\n",
    "    cond = uniform_samples <= np.multiply(mlikelihood, result_gamma) # REVISAR OJO!!!\n",
    "    return prop_samples[cond,:]"
   ]
  },
  {
   "cell_type": "code",
   "execution_count": 333,
   "metadata": {
    "collapsed": false
   },
   "outputs": [
    {
     "name": "stdout",
     "output_type": "stream",
     "text": [
      "7.90986699923e-05\n"
     ]
    }
   ],
   "source": [
    "mu0 = 10.0 # Mean of the prior for the mean\n",
    "mean_lambda0 = 0.1 # Variance of the prior for the mean\n",
    "var0 = 10.0\n",
    "a = 1.0\n",
    "b = 0.5\n",
    "\n",
    "mean_real = 0.8 # Real mean for generating the data\n",
    "var_real = 0.2 # Real variance for generating data\n",
    "N = 20 # Amount of data\n",
    "M = 10000 # Amount of desired(not actual) samples\n",
    "n_dat = [1,5,10,20,100]\n",
    "X_eval = np.linspace(-2.0,2.0, 1000)\n",
    "X = np.random.normal(mean_real, np.sqrt(var_real), N)\n",
    "\n",
    "#np.random.seed(2)\n",
    "P_Z = get_samples_reject_mult(X, M, mu0, mean_lambda0, var0, a, b)"
   ]
  },
  {
   "cell_type": "code",
   "execution_count": 360,
   "metadata": {
    "collapsed": false
   },
   "outputs": [
    {
     "name": "stdout",
     "output_type": "stream",
     "text": [
      "(100000, 2)\n"
     ]
    }
   ],
   "source": [
    "print P_Z.shape\n",
    "# REVISAR, AUN NO ESTA COGIENDO NINGUNA MUESTRA, ES EL UNICO QUE FALLA\n",
    "# Space to draw samples and check if the mean and precision are close to the posterior"
   ]
  },
  {
   "cell_type": "markdown",
   "metadata": {
    "collapsed": true
   },
   "source": [
    "## Sampling Importance Resampling(SIR)"
   ]
  },
  {
   "cell_type": "markdown",
   "metadata": {},
   "source": [
    "### SIR: With unknown mean"
   ]
  },
  {
   "cell_type": "markdown",
   "metadata": {},
   "source": [
    "First the sampling importance part is realized, the weights are calculated in which the importance of each sample of the proposal is given, in this case the proposal is a gaussian distribution also, because the real distribution with which the data was generated is also Gaussian."
   ]
  },
  {
   "cell_type": "code",
   "execution_count": 184,
   "metadata": {
    "collapsed": false
   },
   "outputs": [],
   "source": [
    "mu0 = 0.0\n",
    "var0 = 5.0\n",
    "mean_real = 0.8\n",
    "var_real = 0.1\n",
    "N = 100\n",
    "M = 1000\n",
    "X = np.random.normal(mean_real, np.sqrt(var_real), N)\n",
    "\n",
    "def likelihood_gaussian(X_ev, mu, sigma):\n",
    "    ret = np.copy(mu)\n",
    "    for i in range(0,mu.shape[0]):\n",
    "        tmp = norm.pdf(X_ev, mu[i], np.sqrt(sigma))\n",
    "        #print tmp.shape\n",
    "        ret[i] = np.asscalar(np.prod(tmp))\n",
    "    return ret\n",
    "\n",
    "N = 20000\n",
    "prop_samples = np.random.normal(mu0, np.sqrt(var0), N)\n",
    "mnum = np.divide(likelihood_gaussian(X, prop_samples, var_real), norm.pdf(prop_samples, mu0, np.sqrt(var0)))\n",
    "mdem = np.sum(mnum)\n",
    "W_l = mnum * (1.0/mdem) "
   ]
  },
  {
   "cell_type": "markdown",
   "metadata": {},
   "source": [
    "Then comes the resampling part, for this step a sample from a multinomial experiment with probabilites W_l, then the samples generated from the proposal are chosen with the index given by the multinomial experiment, in total there are M experiments."
   ]
  },
  {
   "cell_type": "code",
   "execution_count": 185,
   "metadata": {
    "collapsed": true
   },
   "outputs": [],
   "source": [
    "# Multinomial sampling\n",
    "M = 10000\n",
    "new_samples = np.zeros(M)\n",
    "for i in range(0,M):\n",
    "    idx = np.random.multinomial(1, W_l, 1)\n",
    "    idx = np.array(idx, dtype=bool)\n",
    "    idx = idx.flatten()\n",
    "    new_samples[i] = np.asscalar(prop_samples[idx])"
   ]
  },
  {
   "cell_type": "markdown",
   "metadata": {},
   "source": [
    "After the resampling a validation of the distribution  from the SIR samples is done in order to verify the accuracy of the method, in this case is very good."
   ]
  },
  {
   "cell_type": "code",
   "execution_count": 187,
   "metadata": {
    "collapsed": false
   },
   "outputs": [
    {
     "data": {
      "text/plain": [
       "<matplotlib.legend.Legend at 0x7fc94a459850>"
      ]
     },
     "execution_count": 187,
     "metadata": {},
     "output_type": "execute_result"
    },
    {
     "data": {
      "image/png": "[encoded data removed]",
      "text/plain": [
       "<matplotlib.figure.Figure at 0x7fc94aa06250>"
      ]
     },
     "metadata": {},
     "output_type": "display_data"
    }
   ],
   "source": [
    "P_Z = parzen(X_eval, new_samples, 0.1, M)\n",
    "X_eval = np.linspace(-2.0,2.0, 1000)\n",
    "Y = norm.pdf(X_eval, mean_real, np.sqrt(var_real))\n",
    "pb.plot(X_eval, Y, label='real')\n",
    "pb.plot(X_eval, P_Z, label='SIR')\n",
    "pb.title('Posterior approximation')\n",
    "pb.legend(loc='upper left')"
   ]
  },
  {
   "cell_type": "markdown",
   "metadata": {},
   "source": [
    "The mean is almos the closely to the same used to generate the data, in this case the curve with SIR samples almost matches the one of the real distribution curve because the h value used in parzen is the same variance of the real distribution, the important thing is that the mean of the posterior approximated with sampling is the one required."
   ]
  },
  {
   "cell_type": "markdown",
   "metadata": {},
   "source": [
    "### SIR: With unknown mean and variance"
   ]
  },
  {
   "cell_type": "markdown",
   "metadata": {},
   "source": [
    "Similar process to the one above is repeated, nevertheless the proposal distribution needs to be changed, now is going to be a normal gamma distribution. "
   ]
  },
  {
   "cell_type": "code",
   "execution_count": 252,
   "metadata": {
    "collapsed": false
   },
   "outputs": [
    {
     "name": "stdout",
     "output_type": "stream",
     "text": [
      "1.0 Check if the sum of the weights is equal to 1.0\n"
     ]
    }
   ],
   "source": [
    "mu0 = 0.0\n",
    "var0 = 5.0\n",
    "mean_real = 0.8\n",
    "var_real = 0.1\n",
    "\n",
    "N = 100\n",
    "M = 1000\n",
    "X = np.random.normal(mean_real, np.sqrt(var_real), N)\n",
    "\n",
    "def likelihood_gaussian(X_ev, mu, sigma):\n",
    "    ret = np.copy(mu)\n",
    "    for i in range(0,mu.shape[0]):\n",
    "        tmp = norm.pdf(X_ev, mu[i], np.sqrt(1.0/sigma[i]))\n",
    "        #print tmp.shape\n",
    "        ret[i] = np.asscalar(np.prod(tmp))\n",
    "    return ret\n",
    "\n",
    "N = 20000\n",
    "prop_samples_prec = np.random.gamma(2.0, 2.0, N)\n",
    "prop_samples_mean = np.zeros(N)\n",
    "\n",
    "for i in range(0,N):\n",
    "    prop_samples_mean[i] = np.random.normal(mu0, np.sqrt(1.0/prop_samples_prec[i]))\n",
    "    \n",
    "mnum = likelihood_gaussian(X, prop_samples_mean, prop_samples_prec)\n",
    "mdem = np.sum(mnum)\n",
    "W_l = mnum * (1.0/mdem)\n",
    "print np.sum(W_l), 'Check if the sum of the weights is equal to 1.0'"
   ]
  },
  {
   "cell_type": "code",
   "execution_count": 253,
   "metadata": {
    "collapsed": false
   },
   "outputs": [],
   "source": [
    "# Multinomial sampling\n",
    "M = 10000\n",
    "new_samples_mean = np.zeros(M)\n",
    "new_samples_prec = np.zeros(M)\n",
    "for i in range(0,M):\n",
    "    idx = np.random.multinomial(1, W_l, 1)\n",
    "    idx = np.array(idx, dtype=bool)\n",
    "    idx = idx.flatten()\n",
    "    new_samples_mean[i] = np.asscalar(prop_samples_mean[idx])\n",
    "    new_samples_prec[i] = np.asscalar(prop_samples_prec[idx])"
   ]
  },
  {
   "cell_type": "code",
   "execution_count": 254,
   "metadata": {
    "collapsed": false
   },
   "outputs": [
    {
     "data": {
      "text/plain": [
       "[<matplotlib.lines.Line2D at 0x7fc9491ddb50>]"
      ]
     },
     "execution_count": 254,
     "metadata": {},
     "output_type": "execute_result"
    },
    {
     "data": {
      "image/png": "[encoded data removed]",
      "text/plain": [
       "<matplotlib.figure.Figure at 0x7fc94958ba50>"
      ]
     },
     "metadata": {},
     "output_type": "display_data"
    }
   ],
   "source": [
    "pb.plot(new_samples_mean, new_samples_prec, 'bo')"
   ]
  },
  {
   "cell_type": "markdown",
   "metadata": {},
   "source": [
    "## Metropolis hastings Sampling"
   ]
  },
  {
   "cell_type": "markdown",
   "metadata": {},
   "source": [
    "### MH: With unknown mean"
   ]
  },
  {
   "cell_type": "code",
   "execution_count": 257,
   "metadata": {
    "collapsed": true
   },
   "outputs": [],
   "source": [
    "def likelihood_gaussian(X_ev, mu, sigma, flag=0):\n",
    "    ret = np.copy(mu)\n",
    "    for i in range(0,mu.shape[0]):\n",
    "        tmp = norm.pdf(X_ev, mu[i], np.sqrt(sigma))\n",
    "        #print tmp.shape\n",
    "        ret[i] = np.asscalar(np.prod(tmp))\n",
    "    return ret\n",
    "\n",
    "def metropolisHastingSample(X, n_samples, var_real, mean_prop=0.0, variance_prop=1.0):        \n",
    "    z_ant = np.asscalar(np.random.normal(mean_prop, variance_prop, 1))    \n",
    "    z_samples = np.zeros(n_samples)\n",
    "    z_samples[0] = z_ant\n",
    "    mean_ml = np.zeros(1)\n",
    "    mean_ml[0] = np.sum(X)/X.shape[0]\n",
    "    for i in range(1, n_samples):\n",
    "        z_p = np.asscalar(np.random.normal(z_ant, variance_prop, 1))        \n",
    "        mix1 = np.multiply(likelihood_gaussian(z_p, mean_ml, var_real),norm.pdf(z_p, mu0, np.sqrt(var0)))\n",
    "        mix2 = np.multiply(likelihood_gaussian(z_ant, mean_ml, var_real),norm.pdf(z_ant, mu0, np.sqrt(var0)))\n",
    "        mnum = norm.pdf(z_ant, z_p, variance_prop)\n",
    "        mdem = norm.pdf(z_p, z_ant, variance_prop)\n",
    "        mnum = mnum*mix1\n",
    "        mdem = mdem*mix2\n",
    "        tmp_val = mnum/mdem\n",
    "        a = min(tmp_val, 1.0)\n",
    "        u0 = np.asscalar(np.random.uniform(size=1))\n",
    "        if(u0 <= a):\n",
    "            z_samples[i] = z_p\n",
    "        else:\n",
    "            z_samples[i] = z_ant\n",
    "        z_ant = z_samples[i]\n",
    "    return z_samples"
   ]
  },
  {
   "cell_type": "code",
   "execution_count": 261,
   "metadata": {
    "collapsed": false
   },
   "outputs": [],
   "source": [
    "mu0 = 0.0\n",
    "var0 = 5.0\n",
    "mean_real = 0.8\n",
    "var_real = 0.1\n",
    "N = 100\n",
    "M = 10000\n",
    "X = np.random.normal(mean_real, np.sqrt(var_real), N)\n",
    "P_Z = metropolisHastingSample(X, M, var_real, variance_prop=10.0)"
   ]
  },
  {
   "cell_type": "code",
   "execution_count": 262,
   "metadata": {
    "collapsed": false
   },
   "outputs": [
    {
     "data": {
      "text/plain": [
       "<matplotlib.legend.Legend at 0x7fc948f5d290>"
      ]
     },
     "execution_count": 262,
     "metadata": {},
     "output_type": "execute_result"
    },
    {
     "data": {
      "image/png": "[encoded data removed]",
      "text/plain": [
       "<matplotlib.figure.Figure at 0x7fc949045f50>"
      ]
     },
     "metadata": {},
     "output_type": "display_data"
    }
   ],
   "source": [
    "X_eval = np.linspace(-2.0,2.0, 1000)\n",
    "Y = norm.pdf(X_eval, mean_real, np.sqrt(var_real))\n",
    "pdf_hast = parzen(X_eval, P_Z, 0.04, M)\n",
    "pb.plot(X_eval, Y, label='real')\n",
    "pb.plot(X_eval, pdf_hast, label='MH')\n",
    "pb.title('Posterior approximation')\n",
    "pb.legend(loc='upper left')"
   ]
  },
  {
   "cell_type": "markdown",
   "metadata": {},
   "source": [
    "The approximation with metropolis is good, the mean is approximately 0.8, the same as the one used to generate the data. Although the SIR is the best fit por the mean."
   ]
  },
  {
   "cell_type": "markdown",
   "metadata": {},
   "source": [
    "### MH: With unknown mean and variance"
   ]
  },
  {
   "cell_type": "code",
   "execution_count": 357,
   "metadata": {
    "collapsed": false
   },
   "outputs": [],
   "source": [
    "def getNormalGammaSamplesMH(nsamples, mu_mean0, mlambda, a, b):\n",
    "    lambda_samples = np.random.gamma(a,b, nsamples)    \n",
    "    mean_samples = np.zeros(nsamples)\n",
    "    for i in range(0,mlambda.shape[0]):\n",
    "        mean_samples[i] = np.random.normal(mu_mean0, np.sqrt(1.0/mlambda[i]), 1)\n",
    "    ret = np.vstack((mean_samples, lambda_samples))\n",
    "    return ret.T\n",
    "\n",
    "def metropolisHastingSampleMult(X, n_samples, mean_prop, a_n, b_n):        \n",
    "    z_ant = getNormalGammaSamples(1, mean_prop, a_n, b_n)\n",
    "    z_samples = np.zeros((n_samples,2))\n",
    "    z_samples[0,:] = z_ant\n",
    "    mean_ml = np.zeros(1)\n",
    "    mean_ml[0] = np.sum(X)/X.shape[0]\n",
    "    for i in range(1, n_samples):\n",
    "        mmean_ev = np.zeros(1)\n",
    "        mlambda_ev = np.zeros(1)\n",
    "        mmean_ev[0] = z_ant[0,0]\n",
    "        mlambda_ev[0] = z_ant[0,1]\n",
    "        z_p = getNormalGammaSamplesMH(1, mmean_ev, mlambda_ev, a_n, b_n)# Generate the sample for        \n",
    "        \n",
    "        \n",
    "        mmean_ev[0] = z_p[0,0]\n",
    "        mlambda_ev[0] = z_p[0,1]\n",
    "        ng = normalGammaEval(mmean_ev, mlambda_ev, mean_prop, a_n, b_n)\n",
    "        lk = likelihood_gaussian_mult(X, mmean_ev, mlambda_ev)\n",
    "        mix1 = ng*lk\n",
    "        mnum = ng*mix1\n",
    "        \n",
    "        mmean_ev[0] = z_ant[0,0]\n",
    "        mlambda_ev[0] = z_ant[0,1]\n",
    "        ng = normalGammaEval(mmean_ev, mlambda_ev, mean_prop, a_n, b_n)\n",
    "        lk = likelihood_gaussian_mult(X, mmean_ev, mlambda_ev) \n",
    "        mix2 = ng*lk       \n",
    "        mdem = ng*mix2\n",
    "        \n",
    "        tmp_val = mnum/mdem\n",
    "        a = min(tmp_val, 1.0)\n",
    "        u0 = np.asscalar(np.random.uniform(size=1))\n",
    "        if(u0 <= a):\n",
    "            z_samples[i,:] = z_p\n",
    "            z_ant = z_p\n",
    "        else:\n",
    "            z_samples[i,:] = z_ant\n",
    "    return z_samples"
   ]
  },
  {
   "cell_type": "code",
   "execution_count": 358,
   "metadata": {
    "collapsed": false
   },
   "outputs": [],
   "source": [
    "mu0 = 0.0\n",
    "a = 2.0\n",
    "b = 2.0\n",
    "\n",
    "mean_real = 0.8\n",
    "var_real = 0.1\n",
    "N = 100\n",
    "M = 100000\n",
    "X = np.random.normal(mean_real, np.sqrt(var_real), N)\n",
    "P_Z = metropolisHastingSampleMult(X, M, mu0, a, b)"
   ]
  },
  {
   "cell_type": "code",
   "execution_count": 359,
   "metadata": {
    "collapsed": false
   },
   "outputs": [
    {
     "name": "stdout",
     "output_type": "stream",
     "text": [
      "(100000, 2)\n"
     ]
    },
    {
     "data": {
      "text/plain": [
       "[<matplotlib.lines.Line2D at 0x7fc9488deb50>]"
      ]
     },
     "execution_count": 359,
     "metadata": {},
     "output_type": "execute_result"
    },
    {
     "data": {
      "image/png": "[encoded data removed]",
      "text/plain": [
       "<matplotlib.figure.Figure at 0x7fc9489dd390>"
      ]
     },
     "metadata": {},
     "output_type": "display_data"
    }
   ],
   "source": [
    "print P_Z.shape\n",
    "pb.plot(P_Z[:,0], P_Z[:,1], 'bo')"
   ]
  },
  {
   "cell_type": "markdown",
   "metadata": {},
   "source": [
    "One can see that the data group in the x-axis(mean), nevertheless with the precision(y axis) it's not the same, the data tries to group in this axis close to a number between 8 and 10, not exactly the same used to generate the data that was 10.0."
   ]
  },
  {
   "cell_type": "code",
   "execution_count": null,
   "metadata": {
    "collapsed": true
   },
   "outputs": [],
   "source": []
  }
 ],
 "metadata": {
  "kernelspec": {
   "display_name": "Python 2",
   "language": "python",
   "name": "python2"
  },
  "language_info": {
   "codemirror_mode": {
    "name": "ipython",
    "version": 2
   },
   "file_extension": ".py",
   "mimetype": "text/x-python",
   "name": "python",
   "nbconvert_exporter": "python",
   "pygments_lexer": "ipython2",
   "version": "2.7.6"
  }
 },
 "nbformat": 4,
 "nbformat_minor": 0
}
