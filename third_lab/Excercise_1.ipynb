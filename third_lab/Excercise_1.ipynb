{
 "cells": [
  {
   "cell_type": "markdown",
   "metadata": {},
   "source": [
    "# Laboratory No. 3. Statistical Inference\n",
    "# Excercise 1:\n",
    "# Gaussian Model Fitting using MC Methods\n",
    "### presented by: Juan David Gil and Juan Sebastián Silva\n",
    "### Date: 18 March 2016"
   ]
  },
  {
   "cell_type": "code",
   "execution_count": 2,
   "metadata": {
    "collapsed": false
   },
   "outputs": [
    {
     "name": "stdout",
     "output_type": "stream",
     "text": [
      "Populating the interactive namespace from numpy and matplotlib\n"
     ]
    }
   ],
   "source": [
    "% pylab inline\n",
    "import numpy as np\n",
    "import math\n",
    "import matplotlib.pyplot as plt\n",
    "from mpl_toolkits.mplot3d.axes3d import Axes3D\n",
    "import pylab as pb\n",
    "from matplotlib import cm\n",
    "from scipy import stats\n",
    "from scipy.stats import norm\n",
    "from scipy.special import gamma\n",
    "from scipy.stats import chi\n",
    "from scipy.stats import multivariate_normal"
   ]
  },
  {
   "cell_type": "markdown",
   "metadata": {},
   "source": [
    "# Using a closed form"
   ]
  },
  {
   "cell_type": "markdown",
   "metadata": {},
   "source": [
    "## Fitting a Gaussian model with unkown mean "
   ]
  },
  {
   "cell_type": "code",
   "execution_count": 115,
   "metadata": {
    "collapsed": false
   },
   "outputs": [
    {
     "data": {
      "image/png": "[encoded data removed]",
      "text/plain": [
       "<matplotlib.figure.Figure at 0x7ff967715990>"
      ]
     },
     "metadata": {},
     "output_type": "display_data"
    }
   ],
   "source": [
    "mean_real = 0.8 # Real mean of the\n",
    "var_real = 0.1 # Real variance of the data\n",
    "N = 100\n",
    "X = np.random.normal(mean_real, np.sqrt(var_real), N)\n",
    "X_eval = np.linspace(0.0,2.0,200)\n",
    "mean_prior = 0.0 # Prior mean for the distribution over the mean\n",
    "var_prior = 10.0 # Prior variance for the distribution over the variance\n",
    "n_dat = [1,5,10,20,100]\n",
    "Y = norm.pdf(X_eval, mean_prior, var_prior)\n",
    "pb.title('Figure 1. Evolution of posterior over the mean given N data points')\n",
    "pb.plot(X_eval,Y)\n",
    "for n in n_dat:\n",
    "    mean_ml = (1.0/n)*np.sum(X[0:n])\n",
    "    posterior_mean = ((var_real/(n*var_prior + var_real))*mean_prior) + (n*var_prior/(n*var_prior + var_real))*mean_ml\n",
    "    posterior_var = (var_prior*var_real)/(n*var_prior + var_real)\n",
    "    y = norm.pdf(X_eval, posterior_mean, np.sqrt(posterior_var))\n",
    "    mlabel = str(n)\n",
    "    pb.plot(X_eval, y, label=mlabel)\n",
    "    pb.legend(loc='upper left')"
   ]
  },
  {
   "cell_type": "markdown",
   "metadata": {},
   "source": [
    "##Fitting a Gaussina model with unknown mean and variance(Precision) "
   ]
  },
  {
   "cell_type": "code",
   "execution_count": 64,
   "metadata": {
    "collapsed": false
   },
   "outputs": [],
   "source": [
    "np.random.seed(2)\n",
    "def showNormalGamma(a_n, b_n, mean_prior, beta_prior, title, m=20, tolerance_mean=1.0, tolerance_lambda=1.0):\n",
    "    #m = 20\n",
    "    if(beta_prior - tolerance_lambda < 0.0):\n",
    "        mlow = 0.1\n",
    "    else:\n",
    "        mlow = beta_prior - tolerance_lambda\n",
    "    mhigh = beta_prior + tolerance_lambda\n",
    "    m_lambda = np.linspace(mlow, mhigh, m)\n",
    "    \n",
    "    mlow = mean_prior - tolerance_mean\n",
    "    mhigh = mean_prior + tolerance_mean\n",
    "    m_mean = np.linspace(mlow, mhigh, m)\n",
    "    \n",
    "    z = np.zeros((m,m))\n",
    "    i = 0\n",
    "    #print (a_n-0.5)/b_n\n",
    "    for t_lambda in m_lambda:\n",
    "        j = 0\n",
    "        mgamma = gamma(a_n)\n",
    "        result_gamma = (1.0/mgamma)*(b_n**a_n)*(t_lambda**(a_n-1.0))*np.exp(-1.0*b_n*t_lambda)\n",
    "        for t_mean in m_mean:\n",
    "            mvar = 1.0/(beta_prior*t_lambda)\n",
    "            y = multivariate_normal.pdf(t_mean, mean=mean_prior, cov=mvar)\n",
    "            z[j,i] = y*result_gamma\n",
    "            j+=1\n",
    "        i+=1\n",
    "    pb.title(title + ' over the mean and precision')\n",
    "    #pb.imshow(z, extent=[8.0,12.0,-1.0,1.0])\n",
    "    pb.contourf(m_lambda, m_mean, z)\n",
    "    return\n",
    "    \n"
   ]
  },
  {
   "cell_type": "code",
   "execution_count": 65,
   "metadata": {
    "collapsed": false
   },
   "outputs": [
    {
     "data": {
      "image/png": "[encoded data removed]",
      "text/plain": [
       "<matplotlib.figure.Figure at 0x7ff9687ca9d0>"
      ]
     },
     "metadata": {},
     "output_type": "display_data"
    }
   ],
   "source": [
    "beta_prior = 0.0001\n",
    "mean_prior = 1.0\n",
    "a_n = 2.0\n",
    "b_n = 1.0\n",
    "showNormalGamma(a_n, b_n, mean_prior, beta_prior, 'prior', 20, 5.0, 3.0)"
   ]
  },
  {
   "cell_type": "code",
   "execution_count": 66,
   "metadata": {
    "collapsed": false
   },
   "outputs": [
    {
     "name": "stdout",
     "output_type": "stream",
     "text": [
      "Real mean:  0.5  Real precision :  0.1\n",
      "Posterior_mean:  0.439310704366  Posterior Precision:  0.0969105734081\n"
     ]
    }
   ],
   "source": [
    "real_mean = 0.5\n",
    "precision = 0.1\n",
    "real_var = 1.0/precision\n",
    "np.random.seed(2)\n",
    "N = 10000\n",
    "X = np.random.normal(real_mean, np.sqrt(real_var), N)\n",
    "mean_ml = np.sum(X)/N\n",
    "mean_posterior = (beta_prior*mean_prior + N*mean_ml)/(beta_prior + N)\n",
    "beta_posterior = beta_prior + N\n",
    "a_n = a_n + (N/2.0)\n",
    "b_n = b_n + (0.5*(np.dot(X - mean_ml, X - mean_ml))) + ((beta_prior*N*(mean_ml - mean_prior)*(mean_ml - mean_prior))/2.0*(beta_prior + N))\n",
    "exp_lambda = a_n/b_n\n",
    "print 'Real mean: ', real_mean, ' Real precision : ', precision\n",
    "print 'Posterior_mean: ', mean_posterior, ' Posterior Precision: ', exp_lambda"
   ]
  },
  {
   "cell_type": "markdown",
   "metadata": {},
   "source": [
    "The values found by the closed form for the mean and the posterior are very close to the real values, the idea now is to use the sampling methods to match the compare them with the closed form, the next method is the rejection sampling method."
   ]
  },
  {
   "cell_type": "markdown",
   "metadata": {},
   "source": [
    "# Using sampling methods"
   ]
  },
  {
   "cell_type": "markdown",
   "metadata": {},
   "source": [
    "## Rejection Sampling "
   ]
  },
  {
   "cell_type": "markdown",
   "metadata": {},
   "source": [
    "### Rejection Sampling: Unknown mean and know variance"
   ]
  },
  {
   "cell_type": "markdown",
   "metadata": {},
   "source": [
    "First lets define some functions that will help with some computations. First the parzen method, that will help with the drawing of the distribution given the samples generated by rejection or any other method. This parzen is only for one dimention."
   ]
  },
  {
   "cell_type": "code",
   "execution_count": 67,
   "metadata": {
    "collapsed": true
   },
   "outputs": [],
   "source": [
    "def parzen(x, samples, h2, N):\n",
    "    N = np.size(samples)\n",
    "    ret = np.zeros(np.size(x))\n",
    "    for i in xrange(N):\n",
    "        ret += multivariate_normal.pdf(x, samples[i], h2)\n",
    "    return ret / N"
   ]
  },
  {
   "cell_type": "markdown",
   "metadata": {},
   "source": [
    "Next the some functions required for computing the Rejection Sampling, it's neccesary to compute the likelihood in the maximum value to know what will be the value of k using to reject the samples generated."
   ]
  },
  {
   "cell_type": "code",
   "execution_count": 94,
   "metadata": {
    "collapsed": true
   },
   "outputs": [],
   "source": [
    "def likelihood_gaussian(X_ev, mu, sigma, flag=0):\n",
    "    ret = np.copy(mu)\n",
    "    for i in range(0,mu.shape[0]):\n",
    "        tmp = norm.pdf(X_ev, mu[i], np.sqrt(sigma))\n",
    "        #print tmp.shape\n",
    "        ret[i] = np.asscalar(np.prod(tmp))\n",
    "    return ret\n",
    "\n",
    "def compute_k(X_ev, var_real, flag=0):\n",
    "    k = np.sum(X_ev)/X_ev.shape[0]\n",
    "    ml_mean = np.zeros(1)\n",
    "    ml_mean[0] = np.asscalar(k)\n",
    "    ret = likelihood_gaussian(X_ev, ml_mean, var_real)\n",
    "    return np.asscalar(ret)\n",
    "\n",
    "def get_samples_reject(X, number, var_real, flag=0):\n",
    "    prop_samples = np.random.normal(mu0, np.sqrt(var0), number)\n",
    "    k = compute_k(X, var_real)\n",
    "    uniform_samples = np.random.uniform(size=number) * k * norm.pdf(prop_samples, mu0, np.sqrt(var0))\n",
    "    cond = uniform_samples <= np.multiply(likelihood_gaussian(X, prop_samples, var_real),norm.pdf(prop_samples, mu0, np.sqrt(var0)))\n",
    "    return prop_samples[cond]"
   ]
  },
  {
   "cell_type": "code",
   "execution_count": 116,
   "metadata": {
    "collapsed": false
   },
   "outputs": [
    {
     "data": {
      "image/png": "[encoded data removed]",
      "text/plain": [
       "<matplotlib.figure.Figure at 0x7ff966537250>"
      ]
     },
     "metadata": {},
     "output_type": "display_data"
    }
   ],
   "source": [
    "mu0 = 0.0 # Mean of the prior for the mean\n",
    "var0 = 10.0 # Variance of the prior for the mean\n",
    "mean_real = 0.8 # Real mean for generating the data\n",
    "var_real = 0.1 # Real variance for generating data\n",
    "N = 20 # Amount of data\n",
    "M = 1000 # Amount of desired(not actual) samples\n",
    "n_dat = [1,5,10,20,100]\n",
    "X_eval = np.linspace(-2.0,2.0, 1000)\n",
    "Y = norm.pdf(X_eval, mean_real, np.sqrt(var_real))\n",
    "\n",
    "for n in n_dat:\n",
    "    X = np.random.normal(mean_real, np.sqrt(var_real), n)\n",
    "    Z = get_samples_reject(X, M, var_real)    \n",
    "    P_Z = parzendiego(X_eval, Z, 0.1, 1000)\n",
    "    bestest = P_Z\n",
    "    pb.title('Distribution with rejection sampling')\n",
    "    mlabel = str(n)\n",
    "    pb.plot(X_eval, P_Z, label=mlabel)\n",
    "    pb.legend(loc='upper left')\n"
   ]
  },
  {
   "cell_type": "markdown",
   "metadata": {},
   "source": [
    "With rejection sampling one can have a very good estimation for the mean, with 100 data points the approximation with rejection sampling is almost the same that the one which was used to generate the data."
   ]
  },
  {
   "cell_type": "markdown",
   "metadata": {},
   "source": [
    "### Rejection Sampling: Unknown mean and unknow variance(precision)"
   ]
  },
  {
   "cell_type": "code",
   "execution_count": 215,
   "metadata": {
    "collapsed": true
   },
   "outputs": [],
   "source": [
    "def likelihood_gaussian_mult(X_ev, mu, mlambda, flag=0):\n",
    "    ret = np.copy(mu)\n",
    "    for i in range(0, mlambda.shape[0]):\n",
    "        tmp = norm.pdf(X_ev, mu[i], np.sqrt(1.0/mlambda[i]))\n",
    "        ret[i] = np.asscalar(np.prod(tmp))\n",
    "    return ret\n",
    "\n",
    "def compute_k_mult(X_ev,flag=0):\n",
    "    ml_mean = np.sum(X_ev)/X_ev.shape[0]\n",
    "    ml_variance = np.dot(X_ev - ml_mean, X_ev - ml_mean)/N\n",
    "    ml_lambda = 1.0/ml_variance\n",
    "    ml_mean_arr = np.zeros(1)\n",
    "    ml_lambda_arr = np.zeros(1)\n",
    "    ml_mean_arr[0] = ml_mean\n",
    "    ml_lambda_arr[0] = ml_lambda\n",
    "    ret = likelihood_gaussian_mult(X_ev, ml_mean_arr, ml_lambda_arr)\n",
    "    return np.asscalar(ret)\n",
    "\n",
    "def get_samples_reject_mult(X, number, mu_mean0, lambda_mean0, var0, a_n, b_n, flag=0):\n",
    "    mean = [mu_mean0, lambda_mean0]\n",
    "    cov = [[var0, 0], [0, var0]]\n",
    "    prop_samples = np.random.multivariate_normal(mean, cov, number)\n",
    "    k = compute_k_mult(X)\n",
    "    print k\n",
    "    uniform_samples = np.random.uniform(size=number) * k * stats.multivariate_normal.pdf(prop_samples, mean, cov)\n",
    "    mlikelihood = likelihood_gaussian_mult(X, prop_samples[:,0], prop_samples[:,1])\n",
    "    mnormal = norm.pdf(prop_samples[:,0], mu_mean0, np.sqrt(1/lambda_mean0))\n",
    "    mgamma = gamma(a_n)\n",
    "    result_gamma = (1.0/mgamma)*(b_n**a_n)*(np.power(prop_samples[:,1],a_n-1.0))*np.exp(-1.0*b_n*prop_samples[:,1])\n",
    "    cond = uniform_samples <= np.multiply(np.multiply(mlikelihood, mnormal), result_gamma)\n",
    "    return prop_samples[cond,:]"
   ]
  },
  {
   "cell_type": "code",
   "execution_count": 217,
   "metadata": {
    "collapsed": false
   },
   "outputs": [
    {
     "name": "stdout",
     "output_type": "stream",
     "text": [
      "0.000120194582852\n"
     ]
    }
   ],
   "source": [
    "mu0 = 100.0 # Mean of the prior for the mean\n",
    "mean_lambda0 = 100.0 # Variance of the prior for the mean\n",
    "var0 = 10.0\n",
    "a = 1.0\n",
    "b = 0.5\n",
    "\n",
    "mean_real = 0.8 # Real mean for generating the data\n",
    "var_real = 0.2 # Real variance for generating data\n",
    "N = 20 # Amount of data\n",
    "M = 1000 # Amount of desired(not actual) samples\n",
    "n_dat = [1,5,10,20,100]\n",
    "X_eval = np.linspace(-2.0,2.0, 1000)\n",
    "X = np.random.normal(mean_real, np.sqrt(var_real), N)\n",
    "\n",
    "#np.random.seed(2)\n",
    "P_Z = get_samples_reject_mult(X, M, mu0, mean_lambda0, var0, a, b)"
   ]
  },
  {
   "cell_type": "code",
   "execution_count": 218,
   "metadata": {
    "collapsed": false
   },
   "outputs": [
    {
     "name": "stdout",
     "output_type": "stream",
     "text": [
      "(0, 2)\n"
     ]
    }
   ],
   "source": []
  },
  {
   "cell_type": "code",
   "execution_count": null,
   "metadata": {
    "collapsed": true
   },
   "outputs": [],
   "source": []
  }
 ],
 "metadata": {
  "kernelspec": {
   "display_name": "Python 2",
   "language": "python",
   "name": "python2"
  },
  "language_info": {
   "codemirror_mode": {
    "name": "ipython",
    "version": 2
   },
   "file_extension": ".py",
   "mimetype": "text/x-python",
   "name": "python",
   "nbconvert_exporter": "python",
   "pygments_lexer": "ipython2",
   "version": "2.7.6"
  }
 },
 "nbformat": 4,
 "nbformat_minor": 0
}
