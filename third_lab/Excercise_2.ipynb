{
 "cells": [
  {
   "cell_type": "markdown",
   "metadata": {},
   "source": [
    "# Laboratory No. 3. Statistical Inference\n",
    "# Excercise 2:\n",
    "# PPCA with Gibbs Sampling\n",
    "### presented by: Juan David Gil and Juan Sebastián Silva\n",
    "### Date: 18 March 2016"
   ]
  },
  {
   "cell_type": "code",
   "execution_count": 6,
   "metadata": {
    "collapsed": false
   },
   "outputs": [
    {
     "name": "stdout",
     "output_type": "stream",
     "text": [
      "Populating the interactive namespace from numpy and matplotlib\n"
     ]
    },
    {
     "name": "stderr",
     "output_type": "stream",
     "text": [
      "WARNING: pylab import has clobbered these variables: ['norm', 'gamma', 'multivariate_normal']\n",
      "`%matplotlib` prevents importing * from pylab and numpy\n"
     ]
    }
   ],
   "source": [
    "% pylab inline\n",
    "import numpy as np\n",
    "import math\n",
    "import matplotlib.pyplot as plt\n",
    "from mpl_toolkits.mplot3d.axes3d import Axes3D\n",
    "import pylab as pb\n",
    "from matplotlib import cm\n",
    "from scipy import stats\n",
    "from scipy.stats import norm\n",
    "from scipy.special import gamma as gammafun\n",
    "from scipy.stats import chi\n",
    "from scipy.stats import multivariate_normal\n",
    "from scipy.stats import gamma"
   ]
  },
  {
   "cell_type": "markdown",
   "metadata": {},
   "source": [
    "$$\\newcommand{\\inputScalar}{x}\n",
    "\\newcommand{\\inputVector}{\\mathbf{x}}\n",
    "\\newcommand{\\inputMatrix}{\\mathbf{X}}\n",
    "\\newcommand{\\dataScalar}{y}\n",
    "\\newcommand{\\dataVector}{\\mathbf{y}}\n",
    "\\newcommand{\\dataMatrix}{\\mathbf{Y}}\n",
    "\\newcommand{\\lengthScale}{\\ell}\n",
    "\\newcommand{\\mappingScalar}{w}\n",
    "\\newcommand{\\mappingVector}{\\mathbf{w}}\n",
    "\\newcommand{\\mappingFunctionScalar}{f}\n",
    "\\newcommand{\\mappingFunctionVector}{\\mathbf{f}}\n",
    "\\newcommand{\\dataStd}{\\sigma}\n",
    "\\newcommand{\\numData}{n}\n",
    "\\newcommand{\\gaussianDist}[3]{\\mathcal{N}\\left(#1|#2,#3\\right)}\n",
    "\\newcommand{\\gaussianSamp}[2]{\\mathcal{N}\\left(#1,#2\\right)}\n",
    "\\newcommand{\\zerosVector}{\\mathbf{0}}\n",
    "\\newcommand{\\eye}{\\mathbf{I}}\n",
    "\\newcommand{\\noiseScalar}{\\epsilon}\n",
    "\\newcommand{\\noiseVector}{\\mathbf{\\epsilon}}\n",
    "\\newcommand{\\noiseMatrix}{\\mathbf{\\Epsilon}}\n",
    "\\newcommand{\\basisMatrix}{\\mathbf{\\Phi}}\n",
    "\\newcommand{\\basisVector}{\\mathbf{\\phi}}\n",
    "\\newcommand{\\basisScalar}{\\phi}\n",
    "\\newcommand{\\expSamp}[1]{\\left<#1\\right>}\n",
    "\\newcommand{\\expDist}[2]{\\left<#1\\right>_{#2}}\n",
    "\\newcommand{\\covarianceMatrix}{\\mathbf{C}}\n",
    "\\newcommand{\\meanVector}{\\boldsymbol{\\mu}}\n",
    "\\newcommand{\\kernelScalar}{k}\n",
    "\\newcommand{\\kernelVector}{\\mathbf{\\kernelScalar}}\n",
    "\\newcommand{\\kernelMatrix}{\\mathbf{K}}\n",
    "\\newcommand{\\meanScalar}{\\mu}\n",
    "\\newcommand{\\ltwoNorm}[1]{\\left\\Vert #1 \\right\\Vert_2}$$"
   ]
  },
  {
   "cell_type": "markdown",
   "metadata": {},
   "source": [
    "# Posterior distributions"
   ]
  },
  {
   "cell_type": "markdown",
   "metadata": {},
   "source": [
    "With gibbs sampling the idea is to write down the full joint probability distribution of the parameters in order to have the approximation of the posterior, for the case of PPCA we can write down the posterior as:"
   ]
  },
  {
   "cell_type": "markdown",
   "metadata": {
    "collapsed": true
   },
   "source": [
    "$$p(\\mathbf{X},\\mathbf{Z},\\mathbf{W},\\pmb{\\mu},\\tau,\\pmb{\\alpha}) = p(\\mathbf{X} \\mid \\mathbf{Z}, \\mathbf{W}, \\pmb{\\mu}, \\tau) p(\\mathbf{Z}) p(\\mathbf{W} \\mid \\pmb{\\alpha}) p(\\pmb{\\mu}) p(\\pmb{\\alpha}) p(\\tau)$$"
   ]
  },
  {
   "cell_type": "markdown",
   "metadata": {},
   "source": [
    "Where:"
   ]
  },
  {
   "cell_type": "markdown",
   "metadata": {},
   "source": [
    "$$p(\\mathbf{X} \\mid \\mathbf{Z}, \\mathbf{W}, \\pmb{\\mu}, \\tau) p(\\mathbf{Z})= \\prod_{n=1}^{N} p(\\mathbf{x_n} \\mid \\mathbf{z_n},\\mathbf{W},\\pmb{\\mu},\\tau) p(\\mathbf{z_n}) $$ "
   ]
  },
  {
   "cell_type": "markdown",
   "metadata": {},
   "source": [
    "$$ p(\\mathbf{x_n} \\mid \\mathbf{z_n},\\mathbf{W},\\pmb{\\mu},\\tau) = \\mathcal{N}(\\mathbf{W}\\mathbf{z_n} + \\pmb{\\mu}, \\tau^{-1}\\mathbf{I})$$"
   ]
  },
  {
   "cell_type": "markdown",
   "metadata": {},
   "source": [
    "$$ p(\\mathbf{z_n}) = \\mathcal{N}(\\mathbf{z_n} \\mid \\mathbf{0},\\mathbf{I})$$"
   ]
  },
  {
   "cell_type": "markdown",
   "metadata": {},
   "source": [
    "$$ p(\\mathbf{W} \\mid \\pmb{\\alpha}) = \\prod_{i=1}^{M} \\mathcal{N}(\\mathbf{w_i} \\mid \\mathbf{0}, \\alpha_i^{-1}\\mathbf{I})  $$"
   ]
  },
  {
   "cell_type": "markdown",
   "metadata": {},
   "source": [
    "$$ p(\\pmb{\\mu}) =  \\mathcal{N}(\\pmb{\\mu} \\mid \\mathbf{0}, \\beta^{-1}\\mathbf{I}) $$"
   ]
  },
  {
   "cell_type": "markdown",
   "metadata": {},
   "source": [
    "$$ p(\\pmb{\\alpha}) = \\prod_{i=1}^{M} Gamma(\\alpha_i \\mid a_\\alpha, b_\\alpha)$$"
   ]
  },
  {
   "cell_type": "markdown",
   "metadata": {},
   "source": [
    "$$ p(\\tau) = Gamma(\\tau \\mid a_\\tau, b_\\tau)$$"
   ]
  },
  {
   "cell_type": "markdown",
   "metadata": {},
   "source": [
    "The the posteriors can be derived as follows:"
   ]
  },
  {
   "cell_type": "markdown",
   "metadata": {},
   "source": [
    "### Posterior for the latent space variable $\\mathbf{z_n}$"
   ]
  },
  {
   "cell_type": "markdown",
   "metadata": {},
   "source": [
    "The posterior for X it's not necccesary because it's the data itself, then one may start to derive the posterior for latent space variable($\\mathbf{z_n}$) conditioned to the other variables, the form of the posterior it's as follows :"
   ]
  },
  {
   "cell_type": "markdown",
   "metadata": {},
   "source": [
    "$$ p(\\mathbf{z_n} \\mid \\mathbf{X}, \\mathbf{z_1},...,\\mathbf{z_{n-1}},\\mathbf{z_{n+1}},...,\\mathbf{z_N},\\mathbf{W}, \\pmb{\\alpha}, \\tau, \\pmb{\\mu}) = \\mathcal{N}(\\mathbf{z_n} \\mid \\mathbf{0},\\mathbf{I}) \\mathcal{N}(\\mathbf{W}\\mathbf{z_n} + \\pmb{\\mu}, \\tau^{-1}\\mathbf{I}) $$"
   ]
  },
  {
   "cell_type": "markdown",
   "metadata": {},
   "source": [
    "taking $ log(p(\\mathbf{z_n} \\mid ...))$, and after several derivations one can obtain again a normal distribution representing the posterior for $\\mathbf{z_n}$:"
   ]
  },
  {
   "cell_type": "markdown",
   "metadata": {},
   "source": [
    "$$ log(p(\\mathbf{z_n} \\mid ...)) = Constant - (\\frac{1}{2}\\mathbf{z_n^T}\\mathbf{z_n}) - (\\frac{1}{2}(\\mathbf{x_n} - \\mathbf{C})^T \\tau\\mathbf{I} (\\mathbf{x_n} - \\mathbf{C}))$$"
   ]
  },
  {
   "cell_type": "markdown",
   "metadata": {},
   "source": [
    "where $\\mathbf{C} = \\mathbf{W}\\mathbf{z_m} + \\pmb{\\mu}$"
   ]
  },
  {
   "cell_type": "markdown",
   "metadata": {},
   "source": [
    "The multiplication of a normal distribution with another normal distribution arises another normal dsitribution, then one need to get the similar cuadratic form of the normal distribution, we btain the following expression from the one above:"
   ]
  },
  {
   "cell_type": "markdown",
   "metadata": {},
   "source": [
    "$$ log(p(\\mathbf{z_n} \\mid ...)) = Constant - \\frac{1}{2}[\\mathbf{z_n^T}(\\mathbf{D})\\mathbf{z_n} - 2\\tau\\mathbf{z_n^T}\\mathbf{W}^T(\\mathbf{x_n} - \\pmb{\\mu}) + Constant]$$"
   ]
  },
  {
   "cell_type": "markdown",
   "metadata": {},
   "source": [
    "where $ \\mathbf{D_{zn}} = (\\mathbf{I} + \\tau(\\mathbf{W}^T\\mathbf{W})) $. As one may realize, the cuadratic form for the normal distribution is already there, then the posterior is a Multivariate Gaussian as follows:"
   ]
  },
  {
   "cell_type": "markdown",
   "metadata": {},
   "source": [
    "$$ p(\\mathbf{z_n} \\mid ...) = \\mathcal{N}(\\mathbf{z_n} \\mid \\pmb{\\mu_{z_n}}, \\mathbf{D_{zn}}^{-1}), $$"
   ]
  },
  {
   "cell_type": "markdown",
   "metadata": {},
   "source": [
    "$$ \\pmb{\\mu_{z_n}}  = \\mathbf{D_{zn}}^{-1}\\tau\\mathbf{W}^T(\\mathbf{x_n} - \\pmb{\\mu})$$"
   ]
  },
  {
   "cell_type": "markdown",
   "metadata": {},
   "source": [
    "### Posterior for the projection vectors $\\mathbf{w_i}$"
   ]
  },
  {
   "cell_type": "markdown",
   "metadata": {},
   "source": [
    "In order to make easire computations, one can avoid to sample from distribution for matrices as $ p(\\mathbf{W} \\mid \\pmb{\\alpha})$ but for each one of the column vectors $\\mathbf{w_i}$ from $\\mathbf{W}$ instead, then the posterior distribution  can be derived from the joint as:"
   ]
  },
  {
   "cell_type": "markdown",
   "metadata": {},
   "source": [
    "$$ p(\\mathbf{w_i} \\mid \\mathbf{X}, \\mathbf{Z}, \\mathbf{w_1},...,\\mathbf{w_{i-1}},\\mathbf{w_{i+1}},...,\\mathbf{w_M}, \\pmb{\\alpha}, \\tau, \\pmb{\\mu}) = \\prod_{n=1}^{N} \\mathcal{N}(\\mathbf{W}\\mathbf{z_n} + \\pmb{\\mu}, \\tau^{-1}\\mathbf{I})\\mathcal{N}(\\mathbf{w_i} \\mid \\mathbf{0}, \\alpha_i^{-1}\\mathbf{I})  $$"
   ]
  },
  {
   "cell_type": "markdown",
   "metadata": {},
   "source": [
    "Like in the case showed before, one may obtain a normal distribution aranging the terms in such a way that can compare the cuadratic form with the one of the multivariate normal. Taking $ log(p(\\mathbf{w_i} \\mid ...))$:"
   ]
  },
  {
   "cell_type": "markdown",
   "metadata": {},
   "source": [
    "$$ log(p(\\mathbf{w_i} \\mid ...)) = Constant - \\frac{1}{2}[\\sum_{n=1}^{N}(\\mathbf{x_n}^T - (\\mathbf{w_i z_{in}} + \\mathbf{A})^T)(\\tau^{-1}\\mathbf{I})^{-1}(\\mathbf{x_n} - \\mathbf{w_i z_{in}} + \\mathbf{A})) + \\mathbf{w_i}^T(\\alpha_i^{-1}\\mathbf{I})^{-1}\\mathbf{w_i}]$$"
   ]
  },
  {
   "cell_type": "markdown",
   "metadata": {},
   "source": [
    "Where $A = \\mathbf{W_{/i}}\\mathbf{z_n} + \\pmb{\\mu}$ and $\\mathbf{W_{/i}}$ means thaht the ith column from $\\mathbf{W}$ is denied, the reason for this is that only the ith column is the variable of interest to the posterior. After some other derivations one obtains the following cuadratic form:"
   ]
  },
  {
   "cell_type": "markdown",
   "metadata": {},
   "source": [
    "$$ log(p(\\mathbf{w_i} \\mid ...)) = Constant - \\frac{1}{2}[\\mathbf{w_i}^T(\\alpha_i^{-1}\\mathbf{I} + \\tau b\\mathbf{I})^{-1}\\mathbf{w_i} -2\\tau\\mathbf{w_i}^T(\\sum_{n=1}^{N}z_{in}\\mathbf{x_n} - z_{in}\\mathbf{A})]$$"
   ]
  },
  {
   "cell_type": "markdown",
   "metadata": {},
   "source": [
    "where $b = \\sum_{n=1}^{N}z_{in}^2$, here $z_{in}$ makes reference to the ith input from the nth latent space vector representation. In the expresion above, again, one can identify the terms to construct a multivariate normal, then the posterior distribution can be defined as follows:"
   ]
  },
  {
   "cell_type": "markdown",
   "metadata": {},
   "source": [
    "$$ p(\\mathbf{z_n} \\mid ...) = \\mathcal{N}(\\mathbf{w_i} \\mid \\pmb{\\mu_{w_i}}, \\mathbf{D_{wi}}^{-1}), $$"
   ]
  },
  {
   "cell_type": "markdown",
   "metadata": {},
   "source": [
    "Where:"
   ]
  },
  {
   "cell_type": "markdown",
   "metadata": {},
   "source": [
    "$$\\mathbf{D_{wi}} = (\\alpha_i^{-1}\\mathbf{I} + \\tau b\\mathbf{I})^{-1},$$"
   ]
  },
  {
   "cell_type": "markdown",
   "metadata": {},
   "source": [
    "$$\\pmb{\\mu_{w_i}} = \\mathbf{D_{wi}}^{-1}\\tau(\\sum_{n=1}^{N}z_{in}\\mathbf{x_n} - z_{in}\\mathbf{A})$$"
   ]
  },
  {
   "cell_type": "markdown",
   "metadata": {},
   "source": [
    "### Posterior for $\\pmb{\\alpha_i}$"
   ]
  },
  {
   "cell_type": "markdown",
   "metadata": {},
   "source": [
    "This are the parameters which controls the distribution of $\\mathbf{W}$ we can write down the posterior distribution for $\\pmb{\\alpha_i}$ as follows:"
   ]
  },
  {
   "cell_type": "markdown",
   "metadata": {},
   "source": [
    "$$ p(\\mathbf{\\alpha_i} \\mid \\mathbf{X}, \\mathbf{Z}, \\mathbf{W}, \\alpha_1,...,\\alpha_{i-1},\\alpha_{i+1},...,\\alpha_M, \\tau, \\pmb{\\mu}) = \\mathcal{N}(\\mathbf{w_i} \\mid \\mathbf{0}, \\alpha_i^{-1}\\mathbf{I}) Gamma(\\alpha_i \\mid a_\\alpha, b_\\alpha)$$"
   ]
  },
  {
   "cell_type": "markdown",
   "metadata": {},
   "source": [
    "In this case the calculations will be done with the posterior directly, not with log of the posterior, this is due to simplicity. The idea here is to obtain a posterior that is going to be a Gamma distribution also, then writing the expressions for each distribution one obtains the following:"
   ]
  },
  {
   "cell_type": "markdown",
   "metadata": {},
   "source": [
    "$$ p(\\alpha_i \\mid ...) = Const * \\alpha_i^{D/2} \\alpha_i^{a_{\\alpha} - 1} exp\\Big\\{ -\\frac{1}{2}\\mathbf{w_i}^T(\\alpha_i^{-1}\\mathbf{I})^{-1}\\mathbf{w_i} - b_{\\alpha}\\alpha_i \\Big\\}$$"
   ]
  },
  {
   "cell_type": "markdown",
   "metadata": {},
   "source": [
    "AS our variable of interest is $\\alpha_i$ we factorize in the expresion above and after some calculations we have the exponential form of a Gamma distribution as follows:"
   ]
  },
  {
   "cell_type": "markdown",
   "metadata": {},
   "source": [
    "$$ p(\\alpha_i \\mid ...) = Const * \\alpha_i^{(D/2 + a_{\\alpha} - 1)} exp\\Big\\{ -(\\frac{1}{2}\\mathbf{w_i}^T\\mathbf{w_i} + b_{\\alpha})\\alpha_i \\Big\\}$$"
   ]
  },
  {
   "cell_type": "markdown",
   "metadata": {},
   "source": [
    "Then the Gamma distribution can be specified in the next form:"
   ]
  },
  {
   "cell_type": "markdown",
   "metadata": {},
   "source": [
    "$$ p(\\alpha_i \\mid ...) = Gamma(\\alpha_i \\mid a_{\\alpha post}, b_{\\alpha post}),$$"
   ]
  },
  {
   "cell_type": "markdown",
   "metadata": {},
   "source": [
    "$$ a_{\\alpha post} =  D/2 + a_{\\alpha}, $$"
   ]
  },
  {
   "cell_type": "markdown",
   "metadata": {},
   "source": [
    "$$b_{\\alpha post} = \\frac{1}{2}\\mathbf{w_i}^T\\mathbf{w_i} + b_{\\alpha} $$"
   ]
  },
  {
   "cell_type": "markdown",
   "metadata": {},
   "source": [
    "### Posterior for $\\tau$"
   ]
  },
  {
   "cell_type": "markdown",
   "metadata": {},
   "source": [
    "The posterior for $\\tau$ cand be expresed as follows:"
   ]
  },
  {
   "cell_type": "markdown",
   "metadata": {},
   "source": [
    "$$ p(\\tau \\mid \\mathbf{X}, \\mathbf{Z}, \\mathbf{W}, \\pmb{\\alpha},\\pmb{\\mu}) = \\prod_{n=1}^{N} \\mathcal{N}(\\mathbf{W}\\mathbf{z_n} + \\pmb{\\mu}, \\tau^{-1}\\mathbf{I}) Gamma(\\tau \\mid a_\\tau, b_\\tau)$$"
   ]
  },
  {
   "cell_type": "markdown",
   "metadata": {},
   "source": [
    "Making a similar derivation like the one before one can getn expresion similar to the gamma distribution, in this case it's as follows:"
   ]
  },
  {
   "cell_type": "markdown",
   "metadata": {},
   "source": [
    "$$ p(\\tau \\mid ...) = Const * \\tau^{((ND/2) + a_{\\tau} - 1)}exp\\Big\\{ -(\\frac{1}{2}\\sum_{n=1}^{N}(\\mathbf{x_n}- \\mathbf{B})^T(\\mathbf{x_n}- \\mathbf{B}) + b_{\\tau})\\tau\\Big\\} $$"
   ]
  },
  {
   "cell_type": "markdown",
   "metadata": {},
   "source": [
    "Where $\\mathbf{B} = \\mathbf{Wz_n} + \\pmb{\\mu}$Then we can write the posterior for $\\tau$ as:"
   ]
  },
  {
   "cell_type": "markdown",
   "metadata": {},
   "source": [
    "$$ p(\\tau \\mid ...) = Gamma(\\tau \\mid a_{\\tau post}, b_{\\tau post}),$$"
   ]
  },
  {
   "cell_type": "markdown",
   "metadata": {},
   "source": [
    "$$ a_{\\tau post} = (ND/2) + a_{\\tau}, $$"
   ]
  },
  {
   "cell_type": "markdown",
   "metadata": {},
   "source": [
    "$$b_{\\tau post} = \\frac{1}{2}\\sum_{n=1}^{N}(\\mathbf{x_n}- \\mathbf{B})^T(\\mathbf{x_n}- \\mathbf{B}) + b_{\\tau}$$"
   ]
  },
  {
   "cell_type": "markdown",
   "metadata": {},
   "source": [
    "### Posterior for $\\pmb{\\mu}$"
   ]
  },
  {
   "cell_type": "markdown",
   "metadata": {},
   "source": [
    "The posterior for $\\pmb{\\mu}$ is also a Gaussian, let's take a look to the expression and make the derivations to obtain that posterior, this can be write down as follows:"
   ]
  },
  {
   "cell_type": "markdown",
   "metadata": {},
   "source": [
    "$$ p(\\pmb{\\mu} \\mid \\mathbf{X}, \\mathbf{Z}, \\mathbf{W}, \\pmb{\\alpha},\\tau) = \\prod_{n=1}^{N} \\mathcal{N}(\\mathbf{W}\\mathbf{z_n} + \\pmb{\\mu}, \\tau^{-1}\\mathbf{I}) \\mathcal{N}(\\pmb{\\mu} \\mid \\mathbf{0}, \\beta^{-1}\\mathbf{I}) $$"
   ]
  },
  {
   "cell_type": "markdown",
   "metadata": {},
   "source": [
    "For this case the log of the posterior was not taken, then one can write the posterior in the following way:"
   ]
  },
  {
   "cell_type": "markdown",
   "metadata": {},
   "source": [
    "$$ p(\\pmb{\\mu} \\mid ...) = Constant * exp\\Big\\{ -\\frac{1}{2}(\\sum_{n=1}^{N}(\\mathbf{x_n}- \\mathbf{B})^T(\\mathbf{x_n}- \\mathbf{B})\\tau - \\pmb{\\mu}^T\\pmb{\\mu}\\beta )\\Big\\}  $$"
   ]
  },
  {
   "cell_type": "markdown",
   "metadata": {},
   "source": [
    "$ \\mathbf{B}$ is already defined for the previous posterior, making some other derivations one can get to the cuadratic form on the gaussian as can be shown below:"
   ]
  },
  {
   "cell_type": "markdown",
   "metadata": {},
   "source": [
    "$$ p(\\pmb{\\mu} \\mid ...) = Constant * exp\\Big\\{ -\\frac{1}{2}[\\pmb{\\mu}^T(\\beta + N\\tau)\\pmb{\\mu} - 2\\pmb{\\mu}^T\\tau(\\sum_{n=1}^{N}\\mathbf{x_n} - \\mathbf{Wz_n})]\\Big\\}  $$"
   ]
  },
  {
   "cell_type": "markdown",
   "metadata": {},
   "source": [
    "Then the posterior for $\\pmb{\\mu}$ that is a multiavriate Normal is defined as follows:"
   ]
  },
  {
   "cell_type": "markdown",
   "metadata": {},
   "source": [
    "$$ p(\\pmb{\\mu} \\mid ...) = \\mathcal{N}(\\pmb{\\mu} \\mid \\pmb{\\mu_{post}}, \\pmb{\\Sigma_{\\mu post}}),$$"
   ]
  },
  {
   "cell_type": "markdown",
   "metadata": {},
   "source": [
    "$$ \\pmb{\\Sigma_{\\mu post}} = (\\beta\\mathbf{I} + N\\tau\\mathbf{I})^{-1} $$"
   ]
  },
  {
   "cell_type": "markdown",
   "metadata": {},
   "source": [
    "$$ \\pmb{\\mu_{post}} = \\pmb{\\Sigma_{\\mu post}}(\\tau(\\sum_{n=1}^{N}\\mathbf{x_n} - \\mathbf{Wz_n})) $$"
   ]
  },
  {
   "cell_type": "markdown",
   "metadata": {},
   "source": [
    "# Gibbs sampling for PPCA"
   ]
  },
  {
   "cell_type": "code",
   "execution_count": null,
   "metadata": {
    "collapsed": true
   },
   "outputs": [],
   "source": []
  }
 ],
 "metadata": {
  "kernelspec": {
   "display_name": "Python 2",
   "language": "python",
   "name": "python2"
  },
  "language_info": {
   "codemirror_mode": {
    "name": "ipython",
    "version": 2
   },
   "file_extension": ".py",
   "mimetype": "text/x-python",
   "name": "python",
   "nbconvert_exporter": "python",
   "pygments_lexer": "ipython2",
   "version": "2.7.6"
  }
 },
 "nbformat": 4,
 "nbformat_minor": 0
}
