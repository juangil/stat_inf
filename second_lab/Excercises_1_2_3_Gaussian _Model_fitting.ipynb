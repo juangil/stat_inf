{
 "cells": [
  {
   "cell_type": "markdown",
   "metadata": {},
   "source": [
    "# Excercise 1, 2, 3:\n",
    "# Gaussian Model Fitting used closed form and Laplace approximation\n",
    "### presented by: Juan David Gil and Juan Sebastián Silva\n",
    "### Date: 29 february 2016"
   ]
  },
  {
   "cell_type": "markdown",
   "metadata": {},
   "source": [
    "In these first three excercise a gaussian model parameters will be founded using in a first step a closed form, putting a Gaussian prior for the mean with known variance in the first excercise, then putting a Normal-Gamma prior for the precision and a leaving the Guassian for the mean, finally a Laplace approximation is used in order to see how well behaves approximating  the posterior over the parameters of the Gaussian model."
   ]
  },
  {
   "cell_type": "code",
   "execution_count": 1,
   "metadata": {
    "collapsed": false
   },
   "outputs": [
    {
     "name": "stdout",
     "output_type": "stream",
     "text": [
      "Populating the interactive namespace from numpy and matplotlib\n"
     ]
    },
    {
     "ename": "ImportError",
     "evalue": "cannot import name multivariate_normal",
     "output_type": "error",
     "traceback": [
      "\u001b[1;31m---------------------------------------------------------------------------\u001b[0m",
      "\u001b[1;31mImportError\u001b[0m                               Traceback (most recent call last)",
      "\u001b[1;32m<ipython-input-1-873cde3c3862>\u001b[0m in \u001b[0;36m<module>\u001b[1;34m()\u001b[0m\n\u001b[0;32m     10\u001b[0m \u001b[1;32mfrom\u001b[0m \u001b[0mscipy\u001b[0m\u001b[1;33m.\u001b[0m\u001b[0mspecial\u001b[0m \u001b[1;32mimport\u001b[0m \u001b[0mgamma\u001b[0m\u001b[1;33m\u001b[0m\u001b[0m\n\u001b[0;32m     11\u001b[0m \u001b[1;32mfrom\u001b[0m \u001b[0mscipy\u001b[0m\u001b[1;33m.\u001b[0m\u001b[0mstats\u001b[0m \u001b[1;32mimport\u001b[0m \u001b[0mchi\u001b[0m\u001b[1;33m\u001b[0m\u001b[0m\n\u001b[1;32m---> 12\u001b[1;33m \u001b[1;32mfrom\u001b[0m \u001b[0mscipy\u001b[0m\u001b[1;33m.\u001b[0m\u001b[0mstats\u001b[0m \u001b[1;32mimport\u001b[0m \u001b[0mmultivariate_normal\u001b[0m\u001b[1;33m\u001b[0m\u001b[0m\n\u001b[0m",
      "\u001b[1;31mImportError\u001b[0m: cannot import name multivariate_normal"
     ]
    }
   ],
   "source": [
    "% pylab inline\n",
    "import numpy as np\n",
    "import math\n",
    "import matplotlib.pyplot as plt\n",
    "from mpl_toolkits.mplot3d.axes3d import Axes3D\n",
    "import pylab as pb\n",
    "from matplotlib import cm\n",
    "from scipy import stats\n",
    "from scipy.stats import norm\n",
    "from scipy.special import gamma\n",
    "from scipy.stats import chi\n",
    "from scipy.stats import multivariate_normal"
   ]
  },
  {
   "cell_type": "markdown",
   "metadata": {},
   "source": [
    "## Fitting a Gaussian Model with known variance(precision) and prior over mean"
   ]
  },
  {
   "cell_type": "code",
   "execution_count": 286,
   "metadata": {
    "collapsed": false
   },
   "outputs": [
    {
     "data": {
      "image/png": "[encoded data removed]",
      "text/plain": [
       "<matplotlib.figure.Figure at 0x14f822350>"
      ]
     },
     "metadata": {},
     "output_type": "display_data"
    }
   ],
   "source": [
    "mean_real = 0.8 # Real mean of the\n",
    "var_real = 0.1 # Real variance of the data\n",
    "N = 100\n",
    "X = np.random.normal(mean_real, np.sqrt(var_real), N)\n",
    "X_eval = np.linspace(0.0,2.0,200)\n",
    "mean_prior = 0.0 # Prior mean for the distribution over the mean\n",
    "var_prior = 10.0 # Prior variance for the distribution over the variance\n",
    "n_dat = [1,5,10,20,100]\n",
    "Y = norm.pdf(X_eval, mean_prior, var_prior)\n",
    "pb.figure(1)\n",
    "pb.title('Evolution of posterior over the mean given N data points')\n",
    "pb.plot(X_eval,Y)\n",
    "for n in n_dat:\n",
    "    mean_ml = (1.0/n)*np.sum(X[0:n])\n",
    "    posterior_mean = ((var_real/(n*var_prior + var_real))*mean_prior) + (n*var_prior/(n*var_prior + var_real))*mean_ml\n",
    "    posterior_var = (var_prior*var_real)/(n*var_prior + var_real)\n",
    "    y = norm.pdf(X_eval, posterior_mean, np.sqrt(posterior_var))\n",
    "    mlabel = str(n)\n",
    "    pb.plot(X_eval, y, label=mlabel)\n",
    "    pb.legend(loc='upper left')"
   ]
  },
  {
   "cell_type": "markdown",
   "metadata": {},
   "source": [
    "As one can see the posterior over the mean tends to be centered at the real mean that is 0.8, with a hundred points the estimation is really good, thanks to the fact that the estimation of the posterior is closed."
   ]
  },
  {
   "cell_type": "markdown",
   "metadata": {},
   "source": [
    "## Fitting a Gaussian model with Gaussian prior over the mean and Normal Gamma prior over the precision"
   ]
  },
  {
   "cell_type": "code",
   "execution_count": 383,
   "metadata": {
    "collapsed": false
   },
   "outputs": [
    {
     "data": {
      "image/png": "[encoded data removed]",
      "text/plain": [
       "<matplotlib.figure.Figure at 0x14fc9b050>"
      ]
     },
     "metadata": {},
     "output_type": "display_data"
    }
   ],
   "source": [
    "np.random.seed(2)\n",
    "def showNormalGamma(a_n, b_n, mean_prior, beta_prior, title, tolerance_mean=1.0, tolerance_lambda=1.0):\n",
    "    m = 20\n",
    "    if(beta_prior - tolerance_lambda < 0.0):\n",
    "        mlow = 0.1\n",
    "    else:\n",
    "        mlow = beta_prior - tolerance_lambda\n",
    "    mhigh = beta_prior + tolerance_lambda\n",
    "    m_lambda = np.linspace(mlow, mhigh, m)\n",
    "    \n",
    "    mlow = mean_prior - tolerance_mean\n",
    "    mhigh = mean_prior + tolerance_mean\n",
    "    m_mean = np.linspace(mlow, mhigh, m)\n",
    "    \n",
    "    z = np.zeros((m,m))\n",
    "    i = 0\n",
    "    #print (a_n-0.5)/b_n\n",
    "    for t_lambda in m_lambda:\n",
    "        j = 0\n",
    "        mgamma = gamma(a_n)\n",
    "        result_gamma = (1.0/mgamma)*(b_n**a_n)*(t_lambda**(a_n-1.0))*np.exp(-1.0*b_n*t_lambda)\n",
    "        for t_mean in m_mean:\n",
    "            mvar = 1.0/(beta_prior*t_lambda)\n",
    "            y = multivariate_normal.pdf(t_mean, mean=mean_prior, cov=mvar)\n",
    "            z[j,i] = y*result_gamma\n",
    "            j+=1\n",
    "        i+=1\n",
    "    pb.title(title + 'over the mean and precision')\n",
    "    #pb.imshow(z, extent=[8.0,12.0,-1.0,1.0])\n",
    "    pb.contourf(m_lambda, m_mean, z)\n",
    "    return\n",
    "    \n",
    "beta_prior = 0.1\n",
    "mean_prior = 1.0\n",
    "a_n = 2.0\n",
    "b_n = 1.0\n",
    "showNormalGamma(a_n, b_n, mean_prior, beta_prior, 'prior', 5.0, 3.0)"
   ]
  },
  {
   "cell_type": "code",
   "execution_count": 421,
   "metadata": {
    "collapsed": false
   },
   "outputs": [
    {
     "name": "stdout",
     "output_type": "stream",
     "text": [
      "Real mean:  0.5  Real precision :  0.1\n",
      "Posterior_mean:  0.496909833627  Posterior Precision:  4.43245141949e-05\n"
     ]
    }
   ],
   "source": [
    "real_mean = 0.5\n",
    "precision = 0.1\n",
    "real_var = 1.0/precision\n",
    "np.random.seed(2)\n",
    "N = 1000000\n",
    "X = np.random.normal(real_mean, np.sqrt(real_var), N)\n",
    "mean_ml = np.sum(X)/N\n",
    "mean_posterior = (beta_prior*mean_prior + N*mean_ml)/(beta_prior + N)\n",
    "beta_posterior = beta_prior + N\n",
    "a_n = a_n + (N/2.0)\n",
    "b_n = b_n + (0.5*(np.dot(X - mean_ml, X - mean_ml))) + ((beta_prior*N*(mean_ml - mean_prior)*(mean_ml - mean_prior))/2.0*(beta_prior + N))\n",
    "exp_lambda = a_n/b_n\n",
    "print 'Real mean: ', real_mean, ' Real precision : ', precision\n",
    "print 'Posterior_mean: ', mean_posterior, ' Posterior Precision: ', exp_lambda"
   ]
  },
  {
   "cell_type": "code",
   "execution_count": 423,
   "metadata": {
    "collapsed": false,
    "scrolled": true
   },
   "outputs": [],
   "source": [
    "#showNormalGamma(a_n, b_n, mean_posterior, beta_posterior, 'posterior', 5.0, 3.0)"
   ]
  },
  {
   "cell_type": "markdown",
   "metadata": {},
   "source": [
    "Only by watching the data one can see that the mean is predicted very well, but it's not the same for the precision"
   ]
  },
  {
   "cell_type": "markdown",
   "metadata": {
    "collapsed": true
   },
   "source": [
    "## Using Laplace Approximation for computing the posterior for mean and precision of a gaussian model"
   ]
  },
  {
   "cell_type": "code",
   "execution_count": 424,
   "metadata": {
    "collapsed": false
   },
   "outputs": [
    {
     "name": "stdout",
     "output_type": "stream",
     "text": [
      "Mean ML:  0.496909783318\n",
      "Optim value for prec:  0.10015791446\n",
      "[[   100157.91456077         0.        ]\n",
      " [        0.          49842608.33554225]]\n"
     ]
    },
    {
     "data": {
      "text/plain": [
       "<matplotlib.contour.QuadContourSet instance at 0x154bd7b48>"
      ]
     },
     "execution_count": 424,
     "metadata": {},
     "output_type": "execute_result"
    },
    {
     "data": {
      "image/png": "[encoded data removed]",
      "text/plain": [
       "<matplotlib.figure.Figure at 0x1544ebe50>"
      ]
     },
     "metadata": {},
     "output_type": "display_data"
    }
   ],
   "source": [
    "real_mean = 0.5\n",
    "precision = 0.1\n",
    "real_var = 1.0/precision\n",
    "\n",
    "beta_prior = 0.1\n",
    "mean_prior = 1.0\n",
    "a_n = 2.0\n",
    "b_n = 1.0\n",
    "N = 1000000\n",
    "np.random.seed(2)\n",
    "X = np.random.normal(real_mean, np.sqrt(real_var), N)\n",
    "mean_ml = np.asscalar(np.sum(X)/N)\n",
    "mprec = (N + 2*a_n)/(np.dot(X - mean_ml, X - mean_ml) + (2.0*b_n))\n",
    "print 'Mean ML: ', mean_ml\n",
    "print 'Optim value for prec: ', (N + 2*a_n)/(np.dot(X - mean_ml, X - mean_ml) + (2.0*b_n))\n",
    "\n",
    "mean_lap = np.array([mean_ml, mprec])\n",
    "Hessian_lap = np.zeros((2,2))\n",
    "Hessian_lap[0,0] = (mprec*(N)) + ((beta_prior**2.0)*(mprec**2.0))\n",
    "Hessian_lap[0,1] = Hessian_lap[1,0] = 0.0\n",
    "Hessian_lap[1,1] = (N/(2.0*(mprec**2.0))) + (0.5/(mprec**2.0)) + ((a_n - 1.0)/(mprec**2.0))\n",
    "print Hessian_lap\n",
    "x, y = np.mgrid[0.4:0.6:.01, 0.0:0.2:.01]\n",
    "pos = np.empty(x.shape + (2,))\n",
    "pos[:, :, 0] = x; pos[:, :, 1] = y\n",
    "rv = stats.multivariate_normal(mean_lap, np.linalg.inv(Hessian_lap))\n",
    "plt.contourf(x, y, rv.pdf(pos))"
   ]
  },
  {
   "cell_type": "code",
   "execution_count": null,
   "metadata": {
    "collapsed": true
   },
   "outputs": [],
   "source": []
  },
  {
   "cell_type": "code",
   "execution_count": null,
   "metadata": {
    "collapsed": true
   },
   "outputs": [],
   "source": []
  },
  {
   "cell_type": "code",
   "execution_count": null,
   "metadata": {
    "collapsed": true
   },
   "outputs": [],
   "source": []
  },
  {
   "cell_type": "code",
   "execution_count": null,
   "metadata": {
    "collapsed": true
   },
   "outputs": [],
   "source": []
  }
 ],
 "metadata": {
  "kernelspec": {
   "display_name": "Python 2",
   "language": "python",
   "name": "python2"
  },
  "language_info": {
   "codemirror_mode": {
    "name": "ipython",
    "version": 2
   },
   "file_extension": ".py",
   "mimetype": "text/x-python",
   "name": "python",
   "nbconvert_exporter": "python",
   "pygments_lexer": "ipython2",
   "version": "2.7.6"
  }
 },
 "nbformat": 4,
 "nbformat_minor": 0
}
