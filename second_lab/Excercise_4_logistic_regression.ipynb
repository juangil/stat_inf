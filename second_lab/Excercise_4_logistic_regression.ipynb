{
 "cells": [
  {
   "cell_type": "markdown",
   "metadata": {
    "collapsed": true
   },
   "source": [
    "# Excercise 4:\n",
    "# Laplace Approximation of Logistic Regression\n",
    "### presented by: Juan David Gil and Juan Sebastián Silva\n",
    "### Date: 29 february 2016"
   ]
  },
  {
   "cell_type": "code",
   "execution_count": null,
   "metadata": {
    "collapsed": true
   },
   "outputs": [],
   "source": []
  },
  {
   "cell_type": "code",
   "execution_count": 62,
   "metadata": {
    "collapsed": false
   },
   "outputs": [
    {
     "name": "stdout",
     "output_type": "stream",
     "text": [
      "Populating the interactive namespace from numpy and matplotlib\n"
     ]
    }
   ],
   "source": [
    "% pylab inline\n",
    "import scipy.io\n",
    "import numpy as np\n",
    "import matplotlib.pyplot as plt\n",
    "import math\n",
    "from mpl_toolkits.mplot3d.axes3d import Axes3D\n",
    "import pylab as pb\n",
    "from matplotlib import cm\n",
    "from scipy import stats"
   ]
  },
  {
   "cell_type": "code",
   "execution_count": 117,
   "metadata": {
    "collapsed": false
   },
   "outputs": [
    {
     "name": "stdout",
     "output_type": "stream",
     "text": [
      "(195, 22) (195, 2)\n"
     ]
    }
   ],
   "source": [
    "cases = []\n",
    "\n",
    "file_name = 'data.csv'\n",
    "X = np.loadtxt(open(file_name,'rb'),delimiter=',')\n",
    "cases.append(X[:,1:X.shape[1]])\n",
    "##print X[:,1:X.shape[1]-1]\n",
    "## si son sanos, cases[0][x,16]=0\n",
    "##si son enfermos, cases[0][x,16]=1\n",
    "XX = X[:,1:]\n",
    "park = np.zeros(XX.shape[1])\n",
    "nopark = np.zeros(XX.shape[1])\n",
    "for i in range(0, XX.shape[0]):\n",
    "    mclass = XX[i,16]\n",
    "    if(mclass == 1.0):\n",
    "        park = np.vstack((park, XX[i,:]))\n",
    "    else:\n",
    "        nopark = np.vstack((nopark, XX[i,:]))\n",
    "\n",
    "idx = np.ones(nopark.shape[0], dtype=bool)\n",
    "idx[0] = False\n",
    "nopark = nopark[idx,:]\n",
    "idx = np.ones(park.shape[0], dtype=bool)\n",
    "idx[0] = False\n",
    "park = park[idx,:]\n",
    "XX = np.vstack((nopark,park))\n",
    "\n",
    "#idx = np.zeros(XX.shape[1], dtype=bool)\n",
    "#idx[16] = True\n",
    "#T = XX[:,idx]\n",
    "\n",
    "T = np.zeros((XX.shape[0],2))\n",
    "for i in range(0,XX.shape[0]):\n",
    "    T[i,XX[i,16]] = 1.0\n",
    "\n",
    "#print T\n",
    "idx = np.ones(XX.shape[1], dtype=bool)\n",
    "idx[16] = False\n",
    "XX = XX[:,idx]\n",
    "#print XX[:,16]\n",
    "print XX.shape, T.shape"
   ]
  },
  {
   "cell_type": "code",
   "execution_count": 127,
   "metadata": {
    "collapsed": true
   },
   "outputs": [],
   "source": [
    "# Logistic function\n",
    "def logisFunc(a):\n",
    "    ret = 1.0/(1.0 + np.exp(-a))\n",
    "    return ret\n",
    "\n",
    "    # Extracting the class wich probability is the highest\n",
    "def extractMax(Yestim, nclass):\n",
    "    for i in range(len(Yestim[:,0])):\n",
    "        mayor = -1000000.0\n",
    "        idmayor = -1\n",
    "        for j in range(nclass):\n",
    "            if(Yestim[i,j] > mayor):\n",
    "                mayor = Yestim[i,j]\n",
    "                idmayor = j\n",
    "\n",
    "        for j in range(nclass):\n",
    "            if (j == idmayor):\n",
    "                Yestim[i,j] = 1.\n",
    "            else:\n",
    "                Yestim[i,j] = 0.\n",
    "    return Yestim\n",
    "\n",
    "    # Evaluating accuracy of a preditcion\n",
    "def evalAccuracy(Yestim, Tvalid, nclass):\n",
    "    true_positives = np.zeros(nclass)\n",
    "    true_negatives = np.zeros(nclass)\n",
    "    false_positives = np.zeros(nclass)\n",
    "    false_negatives = np.zeros(nclass)\n",
    "    for i in range(len(Yestim[:,0])):\n",
    "        for j in range(nclass):\n",
    "            if(Tvalid[i,j] == 1. and Tvalid[i,j] == Yestim[i,j]):\n",
    "                true_positives[j] += 1.\n",
    "            if(Tvalid[i,j] == 0. and Tvalid[i,j] == Yestim[i,j]):\n",
    "                true_negatives[j] += 1.\n",
    "            if(Tvalid[i,j] == 0. and Yestim[i,j] == 1.):\n",
    "                false_positives[j] += 1.\n",
    "            if(Tvalid[i,j] == 1. and Yestim[i,j] == 0):\n",
    "                false_negatives[j] += 1.\n",
    "\n",
    "    ret = np.sum(true_positives + true_negatives)/np.sum(true_positives + false_positives + false_negatives + true_negatives)\n",
    "    ret_class1 = (true_positives[0] + true_negatives[0])/(true_positives[0] + false_positives[0] + false_negatives[0] + true_negatives[0])\n",
    "    return ret\n",
    "\n",
    "def meanDesvCacl(z):\n",
    "    mmean = np.sum(z)/len(z)\n",
    "    desv = np.sum((z - mmean)*(z - mmean))/len(z)\n",
    "    return mmean, desv\n",
    "\n",
    "def logRegEstim(X,T, Xtest):\n",
    "    PHI = X\n",
    "    N = X.shape[0]\n",
    "    M = X.shape[1]\n",
    "    #Wold = np.transpose(np.matrix(np.random.random_sample(M)))\n",
    "    Wold = np.transpose(np.matrix(np.zeros(M))) + 0.001\n",
    "    Wnew = np.transpose(np.matrix(np.zeros(M)))\n",
    "    EPS = 1e-6\n",
    "    diff = np.linalg.norm(Wold - Wnew)\n",
    "    cont = 0\n",
    "    Yestim = T\n",
    "    var_0 = 10.0\n",
    "    S0 = np.eye(M)*var_0\n",
    "    mean_0 = np.zeros(M)\n",
    "    \n",
    "    S0 = np.matrix(S0)\n",
    "    mean_0 = mean_0[:,None]\n",
    "    mean_0 = np.matrix(mean_0)\n",
    "    \n",
    "    # Newton raphson with several iteration\n",
    "    super_R = 0\n",
    "    while cont < 100:\n",
    "        yy = np.transpose(Wold) * np.transpose(PHI)\n",
    "        yy = np.transpose(logisFunc(yy))\n",
    "        yy = yy\n",
    "        Yestim = yy        \n",
    "        #print ' '\n",
    "        R = np.zeros((N,N))\n",
    "        for i in range(0,N):\n",
    "            #print yy[i,0]\n",
    "            R[i,i] = (yy[i,0] * (1 - yy[i,0])) + 0.001\n",
    "        super_R = R\n",
    "        #z = (PHI*Wold) - (np.linalg.inv(R)*(yy - T))\n",
    "        #Wnew = np.linalg.inv((np.transpose(PHI) * (R * PHI))) * (np.transpose(PHI)*R*z)\n",
    "        tmp1 = (np.linalg.inv(S0) + np.transpose(PHI)*(R*PHI))\n",
    "        tmp2 = (np.linalg.inv(S0)*(Wold - mean_0) + np.transpose(PHI)*(yy - T))\n",
    "        #print tmp1.shape, tmp2.shape\n",
    "        Wnew = Wold - (np.linalg.inv(tmp1)*(tmp2))\n",
    "        diff = np.linalg.norm(Wold - Wnew)\n",
    "        if diff < EPS:\n",
    "            break\n",
    "        else:\n",
    "            Wold = Wnew\n",
    "        cont += 1\n",
    "    #print Wnew\n",
    "    cov_mat = np.linalg.inv(S0) +   np.transpose(PHI)*(super_R*PHI)\n",
    "    #print Xtest.shape\n",
    "    ret = np.transpose(Wnew) * np.transpose(Xtest)\n",
    "    ret = np.transpose(logisFunc(ret))\n",
    "    #print ret.shape\n",
    "    return ret\n",
    "\n",
    "# Cross validation -----------------------------------------------------------\n",
    "def evaluate(Xtrain, Xtest, Ttrain, Ttest, nclass):\n",
    "    \n",
    "    # logistic regression\n",
    "    Yestim_log_reg = np.zeros((len(Ttest[:,0]), nclass))\n",
    "    Yestim_log_reg = np.matrix(Yestim_log_reg)\n",
    "    for i in range(0, nclass):\n",
    "        Yestim_log_reg[:,i] = logRegEstim(Xtrain, Ttrain[:,i], Xtest)\n",
    "    Yestim_log_reg = extractMax(Yestim_log_reg,nclass)\n",
    "    log_reg_err = evalAccuracy(Yestim_log_reg, Ttest, nclass)\n",
    "\n",
    "    return log_reg_err\n",
    "\n",
    "\n",
    "def crossValidation(X, T, nclass, valid_num = 5):\n",
    "    N = len(X[:, 0])\n",
    "    Nvalid = (N/valid_num)\n",
    "    Ntest = N - Nvalid\n",
    "    # Setting a seed for random elections, comment this line if you want a new permutation in each execution of this subroutine\n",
    "    np.random.seed(3)\n",
    "    # Generating a random permutation of the indexes of the array\n",
    "    index = np.random.permutation(N)\n",
    "    l = 0\n",
    "    r = Nvalid\n",
    "    # Arrays to save the values of the accuracy obtained in each  validation\n",
    "    #err_lse_arr = np.zeros(valid_num)\n",
    "    #err_gme_arr = np.zeros(valid_num)\n",
    "    err_log_arr = np.zeros(valid_num)    \n",
    "    for i in range(0, valid_num):\n",
    "        # Dividing the training groups of the validation group for each validation\n",
    "        Xtrain = []\n",
    "        Ttrain = []\n",
    "        if l == 0:\n",
    "            Xtrain = X[index[r:N], :]\n",
    "            Ttrain = T[index[r:N], :]\n",
    "        else:\n",
    "            if(r < N):\n",
    "                Xtrain = np.concatenate((X[index[0:l], :],X[index[r: N], :]))\n",
    "                Ttrain = np.concatenate((T[index[0:l], :],T[index[r: N], :]))\n",
    "            else:\n",
    "                Xtrain = X[index[0:l], :]\n",
    "                Ttrain = T[index[0:l], :]\n",
    "\n",
    "\n",
    "        Xvalid = X[index[l:r], :]\n",
    "        Tvalid = T[index[l:r], :]\n",
    "        l = r\n",
    "        r += Nvalid\n",
    "        '''\n",
    "        print Xvalid.shape\n",
    "        print Tvalid.shape\n",
    "        print Xtrain.shape\n",
    "        print Ttrain.shape\n",
    "        print ' '\n",
    "        '''\n",
    "        # calculating the accuracy for the ith validation for each method\n",
    "        #print Xtrain.shape, Xvalid.shape, Ttrain.shape, Tvalid.shape\n",
    "        err_log_arr[i] = evaluate(Xtrain, Xvalid, Ttrain, Tvalid, nclass)\n",
    "        \n",
    "    print 'Accuracy logistic regression classification: '\n",
    "    #print err_log_arr\n",
    "    acc, desv = meanDesvCacl(err_log_arr)\n",
    "    print 'Accuracy: ', (\"%.3f\" % acc), ' Standard Deviation', (\"%.3f\" % desv), ' Maximum accuracy: ', (\"%.3f\" % np.amax(err_log_arr))\n",
    "    print '---------------------------------------------------------------'"
   ]
  },
  {
   "cell_type": "code",
   "execution_count": 128,
   "metadata": {
    "collapsed": false
   },
   "outputs": [
    {
     "name": "stdout",
     "output_type": "stream",
     "text": [
      "Accuracy logistic regression classification: \n",
      "Accuracy:  0.841  Standard Deviation 0.004  Maximum accuracy:  0.923\n",
      "---------------------------------------------------------------\n"
     ]
    }
   ],
   "source": [
    "crossValidation(XX, T, 2)"
   ]
  },
  {
   "cell_type": "code",
   "execution_count": null,
   "metadata": {
    "collapsed": true
   },
   "outputs": [],
   "source": []
  }
 ],
 "metadata": {
  "kernelspec": {
   "display_name": "Python 2",
   "language": "python",
   "name": "python2"
  },
  "language_info": {
   "codemirror_mode": {
    "name": "ipython",
    "version": 2
   },
   "file_extension": ".py",
   "mimetype": "text/x-python",
   "name": "python",
   "nbconvert_exporter": "python",
   "pygments_lexer": "ipython2",
   "version": "2.7.6"
  }
 },
 "nbformat": 4,
 "nbformat_minor": 0
}
